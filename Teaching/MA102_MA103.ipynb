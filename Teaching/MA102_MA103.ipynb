{
  "cells": [
    {
      "cell_type": "raw",
      "metadata": {},
      "source": [
        "---\n",
        "title: \"MA102 - MA103 <small><small><small>(Introduction to Abstract Mathematics)</small></small></small>\"\n",
        "format: html\n",
        "---"
      ],
      "id": "e6963e61"
    },
    {
      "cell_type": "markdown",
      "metadata": {},
      "source": [
        "::: column-margin\n",
        "::: callout-note\n",
        "## Contact\n",
        "- Name: Domenico Mergoni\n",
        "- Email: d.mergoni -at- lse.ac.uk\n",
        "- Work: [London School of Economics](https://www.lse.ac.uk/mathematics)\n",
        ":::\n",
        ":::\n",
        "\n",
        "::: column-margin\n",
        "::: callout-tip\n",
        "## Tip\n",
        "\n",
        "Internet is a great resource. Use it. Some resources I like:\n",
        "\n",
        "1.  [MIT OpenCourseWare](https://www.youtube.com/c/mitocw/featured),\n",
        "2.  [Stanford](https://www.youtube.com/c/stanford/featured),\n",
        "3.  [Harvard](https://www.youtube.com/c/harvard).\n",
        ":::\n",
        ":::\n",
        "\n",
        "::: column-margin\n",
        "::: callout-warning\n",
        "## Beware, the Crime!\n",
        "\n",
        "It is illegal to download articles and books from pages like [LibGen](http://libgen.li/), [Sci-hub](https://sci-hub.se/) or from Telegram bots like [\\@scihubot](http://t.me/scihubot). Also, DO NOT use VPN to protect your freedom of education ([Opera](https://www.opera.com) offers a free VPN).\n",
        ":::\n",
        ":::\n"
      ],
      "id": "7f3137ed"
    },
    {
      "cell_type": "code",
      "metadata": {},
      "source": [
        "c=0\n",
        "\n",
        "print(c)"
      ],
      "id": "5bc2c9aa",
      "execution_count": null,
      "outputs": []
    }
  ],
  "metadata": {
    "kernelspec": {
      "name": "python3",
      "language": "python",
      "display_name": "Python 3 (ipykernel)"
    }
  },
  "nbformat": 4,
  "nbformat_minor": 5
}