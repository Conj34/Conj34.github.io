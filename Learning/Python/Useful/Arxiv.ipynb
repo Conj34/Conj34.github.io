{
  "cells": [
    {
      "cell_type": "raw",
      "metadata": {},
      "source": [
        "---\n",
        "title: Everyday email\n",
        "format: html\n",
        "---"
      ],
      "id": "6f1a17cb"
    },
    {
      "cell_type": "markdown",
      "metadata": {},
      "source": [
        "::: column-margin\n",
        "::: callout-note\n",
        "## Contact\n",
        "\n",
        "-   Name: Domenico Mergoni\n",
        "-   Email: d.mergoni -at- lse.ac.uk\n",
        "-   Work: [London School of Economics](https://www.lse.ac.uk/mathematics)\n",
        ":::\n",
        ":::\n",
        "\n",
        "\n",
        "\n",
        "Every morning, I receive an email from [Arxiv](https://arxiv.org). Arxiv is an online platform used in the scientific community to share new results, quite similar to a Facebook, LinkedIn or Instagram for ~~nerds~~ scientists.\n",
        "These emails are super cool: they contain all the results published on the platform about your area(s) of interest in the last 24hrs, and a link to the relevant papers. This is quite useful and it allows you to keep track of the recent results without too much effort.\n",
        "\n",
        "However, there is a (small) problem: every new article has a page and a pdf. The page only contains the abstract, the pdf contains the whole article. Here's the pickle: in the email is only contained the link **to the page** of the article, and not to the pdf.\n",
        "\n",
        "So every morning I have to click the link to the papers I'm interested in, and THEN click again in the page to find the pdf. **TWO CLICKS TO READ AN ARTICLE?** That's too much. From today, no more!\n"
      ],
      "id": "f3c58554"
    },
    {
      "cell_type": "code",
      "metadata": {},
      "source": [
        "def get_pdf_url(line: \"line of email with url\") -> \"url of the pdf\":\n",
        "    ### We assume a lot about the structure of the line of the link.\n",
        "    if \"/abs/\" not in line:\n",
        "        return \"https://www.google.com\"\n",
        "    sta = line.split(\"/abs/\")[1]\n",
        "    end = sta.find(\" , \")\n",
        "    return \"https://arxiv.org/pdf/\"+sta[:end]+\".pdf\"\n",
        "\n",
        "import webbrowser\n",
        "today = open(\"./today.txt\",\"r\")\n",
        "for line in today.readlines():\n",
        "    print(line)\n",
        "    if \"https\" in line:\n",
        "        url = get_pdf_url(line)\n",
        "        print(url)\n",
        "        webbrowser.open(url)"
      ],
      "id": "04a67292",
      "execution_count": null,
      "outputs": []
    }
  ],
  "metadata": {
    "kernelspec": {
      "name": "python3",
      "language": "python",
      "display_name": "Python 3 (ipykernel)"
    }
  },
  "nbformat": 4,
  "nbformat_minor": 5
}