{
 "cells": [
  {
   "cell_type": "markdown",
   "metadata": {},
   "source": [
    "ME200, Johannes Ruf and Luitgard Veraart"
   ]
  },
  {
   "cell_type": "markdown",
   "metadata": {},
   "source": [
    "# Solutions to Assignment 8"
   ]
  },
  {
   "cell_type": "markdown",
   "metadata": {},
   "source": [
    "$ \\def\\pounds{\\unicode{x00A3}} $"
   ]
  },
  {
   "cell_type": "markdown",
   "metadata": {},
   "source": [
    "## Exercise 34: (Hedging a long position)\n",
    "The investor should use the opposite of the replicating strategy derived in the lecturer for the seller of the option. This means that rather than holding $1/2$ shares of stocks she should hold $-1/2$ shares of stocks (i.e., she short sells the stock). This generates an income of $\\pounds 1/2\\cdot 4=2$. She should now invest this in the riskless asset. \n",
    "\n",
    "If at time 1 the stock price goes up, she has an option worth $\\pounds 3$ and has $\\pounds 2\\cdot \\frac{5}{4}= \\pounds 2.5$ in the riskless asset. She must pay $\\pounds 0.5 \\cdot 8= \\pounds 4$ to cover the short position in the stock, which leaves her with $\\pounds 1.5$ as desired. \n",
    "\n",
    "If at time 1 the stock price goes down, she has an option worth $\\pounds 0$ and has $\\pounds 2\\cdot \\frac{5}{4}= \\pounds 2.5$ in the riskless asset. She must pay $\\pounds 0.5 \\cdot 2= \\pounds 1$ to cover the short position in the stock, which leaves her with $\\pounds 1.5$ as desired. "
   ]
  },
  {
   "cell_type": "markdown",
   "metadata": {},
   "source": [
    "## Exercise 35: (Monte Carlo approximation of European put option)\n",
    "\n",
    "In the following we will be using the method choice available in numpy.random to generate a sample from a discrete probability distribution. See here:  \n",
    "https://numpy.org/doc/stable/reference/random/generated/numpy.random.choice.html"
   ]
  },
  {
   "cell_type": "code",
   "execution_count": 1,
   "metadata": {},
   "outputs": [],
   "source": [
    "import numpy as np\n",
    "from scipy.special import comb"
   ]
  },
  {
   "cell_type": "code",
   "execution_count": 2,
   "metadata": {},
   "outputs": [],
   "source": [
    "rng = np.random.default_rng(12345)"
   ]
  },
  {
   "cell_type": "code",
   "execution_count": 3,
   "metadata": {},
   "outputs": [
    {
     "name": "stdout",
     "output_type": "stream",
     "text": [
      "MC price of put in binomial model is: 1.1822\n"
     ]
    }
   ],
   "source": [
    "def generateriskneutralstocks(S0, u, d, r, samplesize): \n",
    "    ptilde = (1 + r - d) / (u - d)\n",
    "    stocks =  rng.choice(np.array([S0 * u, S0 * d]), size = samplesize, replace = True, p=np.array([ptilde, 1-ptilde]))\n",
    "    return(stocks)\n",
    "\n",
    "def putpriceMC(S0, u, d, r, samplesize, K):\n",
    "    mystocks = generateriskneutralstocks(S0, u, d, r, samplesize)\n",
    "    payoffs= np.maximum(K - mystocks, 0) / (1 + r)\n",
    "    return(payoffs.mean())\n",
    "\n",
    "print('MC price of put in binomial model is: {:.4f}'.format(putpriceMC(S0=4, u=2, d=0.5, r=0.25, samplesize = 10000, K = 5)))"
   ]
  },
  {
   "cell_type": "markdown",
   "metadata": {},
   "source": [
    "## Exercise 36: (Multi-period binomial model)"
   ]
  },
  {
   "cell_type": "code",
   "execution_count": 4,
   "metadata": {},
   "outputs": [
    {
     "name": "stdout",
     "output_type": "stream",
     "text": [
      "Analytical price of put in binomial model is: 1.2000\n"
     ]
    }
   ],
   "source": [
    "def europeanput_binomial(S0, K, r, N, u, d):\n",
    "    ptilde = (1 + r - d) / (u - d)\n",
    "    myprice = 0\n",
    "    for k in range(0, N + 1):\n",
    "        stockprice = S0 * (u ** k) * (d ** (N-k))\n",
    "        myprice = myprice + \\\n",
    "            comb(N, k) * (ptilde ** k) * ((1-ptilde) ** (N-k)) *\\\n",
    "                np.maximum(K - stockprice, 0)\n",
    "    result = myprice / ((1+r) ** N)\n",
    "    return result\n",
    "\n",
    "print('Analytical price of put in binomial model is: {:.4f}'.format( \n",
    "      europeanput_binomial(S0=4, u=2, d=0.5, r=0.25, N=1, K=5)))"
   ]
  },
  {
   "cell_type": "code",
   "execution_count": 5,
   "metadata": {},
   "outputs": [
    {
     "name": "stdout",
     "output_type": "stream",
     "text": [
      "Analytical price of call in binomial model is: 1.2000\n"
     ]
    }
   ],
   "source": [
    "def europeancall_binomial(S0, K, r, N, u, d):\n",
    "    ptilde = (1 + r - d) / (u - d)\n",
    "    myprice = 0\n",
    "    for k in range(0, N + 1):\n",
    "        stockprice = S0 * (u ** k) * (d ** (N-k))\n",
    "        myprice = myprice + \\\n",
    "            comb(N, k) * (ptilde ** k) * ((1-ptilde) ** (N-k)) *\\\n",
    "                np.maximum(stockprice - K, 0)\n",
    "    result = myprice / ((1+r) ** N)\n",
    "    return result\n",
    "\n",
    "print('Analytical price of call in binomial model is: {:.4f}'.format( \n",
    "      europeancall_binomial(S0=4, u=2, d=0.5, r=0.25, N=1, K=5)))"
   ]
  },
  {
   "cell_type": "markdown",
   "metadata": {},
   "source": [
    "The put-call parity in the binomial model is given by $C_0 - P_0 = S_0 - K/(1+r)^N$ where $C_0, P_0$ denote the price of the European call and put option, respectively. Let us use this to check our implementation:  "
   ]
  },
  {
   "cell_type": "code",
   "execution_count": 6,
   "metadata": {},
   "outputs": [
    {
     "name": "stdout",
     "output_type": "stream",
     "text": [
      "call - put = 92.2240\n",
      "S0 - K/(1+r)^N= 92.2240\n"
     ]
    }
   ],
   "source": [
    "S0 = 100\n",
    "K = 100\n",
    "u = 3\n",
    "d = 1 / 3\n",
    "r = 2 / 3\n",
    "N = 5\n",
    "\n",
    "test = S0 - K / (1 + r) ** N\n",
    "\n",
    "call = europeancall_binomial(S0=100, u=3, d=1/3, r=2/3, N=5, K=100) \n",
    "put = europeanput_binomial(S0=100, u=3, d=1/3, r=2/3, N=5, K=100) \n",
    "\n",
    "print('call - put = {:.4f}'.format(call - put))\n",
    "print('S0 - K/(1+r)^N= {:.4f}'.format(test))\n"
   ]
  }
 ],
 "metadata": {
  "anaconda-cloud": {},
  "kernelspec": {
   "display_name": "Python 3 (ipykernel)",
   "language": "python",
   "name": "python3"
  },
  "language_info": {
   "codemirror_mode": {
    "name": "ipython",
    "version": 3
   },
   "file_extension": ".py",
   "mimetype": "text/x-python",
   "name": "python",
   "nbconvert_exporter": "python",
   "pygments_lexer": "ipython3",
   "version": "3.9.7"
  }
 },
 "nbformat": 4,
 "nbformat_minor": 4
}
