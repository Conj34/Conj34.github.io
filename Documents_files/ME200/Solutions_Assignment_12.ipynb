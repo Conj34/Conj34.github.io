{
 "cells": [
  {
   "cell_type": "markdown",
   "metadata": {},
   "source": [
    "ME200, Johannes Ruf and Luitgard Veraart"
   ]
  },
  {
   "cell_type": "markdown",
   "metadata": {},
   "source": [
    "# Solutions to Assignment 12"
   ]
  },
  {
   "cell_type": "code",
   "execution_count": 1,
   "metadata": {},
   "outputs": [],
   "source": [
    "import numpy as np\n",
    "import matplotlib.pyplot as plt\n",
    "from scipy.stats import norm\n",
    "import time"
   ]
  },
  {
   "cell_type": "markdown",
   "metadata": {},
   "source": [
    "## Exercise 44\n"
   ]
  },
  {
   "cell_type": "markdown",
   "metadata": {},
   "source": [
    "Let \n",
    "\\begin{align*}\n",
    "\tD_1 & = \\frac{\\log \\left(\\frac{S_t}{K} \\right) + \\left(r + \\frac{\\sigma^2}{2} \\right)(T-t)}{\\sigma \\sqrt{T-t}}, &\n",
    "\tD_2 &= D_1 - \\sigma \\sqrt{T-t}. \n",
    "\\end{align*}\n",
    "We show that  \n",
    "\\begin{align*}\n",
    "\tS_t \\varphi (D_1) = K e^{-r(T - t)} \\varphi(D_2),  \n",
    "\\end{align*}\n",
    "where \n",
    " $\\varphi(x) = \\frac{1}{\\sqrt{2 \\pi}} \\exp(-\\frac{x^2}{2})$. "
   ]
  },
  {
   "cell_type": "markdown",
   "metadata": {},
   "source": [
    "Proof: \n",
    "To see that the statement is true, consider\n",
    "\t\\begin{align*}\n",
    "\t\t\\log\\left( \\frac{\\varphi(D_1)}{ \\varphi(D_2)}\\right) & = \\log\\left(\\frac{\\frac{e^{-D_1^2/2}}{\\sqrt{2 \\pi}}}{\\frac{e^{-D_2^2/2}}{\\sqrt{2 \\pi}}}\\right)\n",
    "\t\t= \\log(\\exp(\\frac{1}{2} (D_2^2 - D_1^2))) \\\\\n",
    "\t\t& = \\frac{1}{2} (D_2^2 - D_1^2) =  \n",
    "\t\t\\frac{1}{2} (D_2 - D_1)(D_2 + D_1)\\\\ \n",
    "\t\t&= \\frac{1}{2} (- \\sigma \\sqrt{T - t}) (2 D_1 - \\sigma \\sqrt{T-t})\\\\\n",
    "\t\t&= -D_1 \\sigma \\sqrt{T-t} + \\frac{\\sigma^2 (T-t)}{2}\\\\\n",
    "\t\t&= -\\log\\left(\\frac{S_t}{K}\\right) - (r + \\frac{\\sigma^2}{2})(T-t) + \\frac{\\sigma^2 (T-t)}{2}\\\\\n",
    "\t\t&= \\log\\left(\\frac{K}{S_t}\\right) - r (T-t). \n",
    "\t\\end{align*}\n",
    "\tThen we take exponentials on both sides of the equation and obtain \n",
    "\t\\begin{align*}\n",
    "\t\t\\frac{\\varphi(D_1)}{\\varphi(D_2)} = \\exp\\left( \\log\\left(\\frac{K}{S_t} \\right) - r (T-t) \\right)\n",
    "\t\t= \\frac{K}{S_t} \\exp(-r(T-t)) \n",
    "\t\\end{align*}\n",
    "\twhich is equivalent to \n",
    "\t\\begin{align*}\n",
    "\t\tS_t \\varphi(D_1) = Ke^{-r(T-t)} \\varphi(D_2). \n",
    "\t\\end{align*}\n"
   ]
  },
  {
   "cell_type": "markdown",
   "metadata": {},
   "source": [
    "## Exercise 45"
   ]
  },
  {
   "cell_type": "code",
   "execution_count": 2,
   "metadata": {},
   "outputs": [
    {
     "name": "stdout",
     "output_type": "stream",
     "text": [
      "Price of European call option is: 7.1156\n"
     ]
    }
   ],
   "source": [
    "#Function returning the price of European Call option in Black-Scholes model\n",
    "def black_scholes_call(S, K, r, tau, sigma):\n",
    "    d1 = (np.log(S / K) + (r + 0.5 * sigma**2) * tau)/(sigma * np.sqrt(tau))\n",
    "    d2 = d1 - sigma * np.sqrt(tau)\n",
    "    tmp1 = S * norm.cdf(d1, loc=0, scale=1)\n",
    "    tmp2 = K * np.exp(-r * tau) * norm.cdf(d2, loc=0, scale=1)\n",
    "    price = tmp1 - tmp2\n",
    "    return price\n",
    "\n",
    "\n",
    "myprice = black_scholes_call(S=50, K=50, r=0.05, tau=1.0, sigma=0.3)\n",
    "print('Price of European call option is: {:.4f}'.format(myprice))"
   ]
  },
  {
   "cell_type": "code",
   "execution_count": 3,
   "metadata": {},
   "outputs": [
    {
     "name": "stdout",
     "output_type": "stream",
     "text": [
      "0.29999960064888\n"
     ]
    }
   ],
   "source": [
    "#Function computing implied volatilities using the Bisection method\n",
    "def impliedvol_bisection(S, K, r, tau, marketprice, a, b, tolerance):\n",
    "    \n",
    "    f_a = black_scholes_call(S, K, r, tau, a) - marketprice\n",
    "    f_b = black_scholes_call(S, K, r, tau, b) - marketprice \n",
    "    \n",
    "    if f_a*f_b >= 0: \n",
    "        print(\"Choose new interval [a, b]!\")\n",
    "        return \n",
    "    \n",
    "    l_n = a\n",
    "    r_n = b\n",
    "    \n",
    "    while (np.abs(r_n-l_n) > tolerance):\n",
    "        \n",
    "        f_a = black_scholes_call(S, K, r, tau, l_n) - marketprice\n",
    "        f_b = black_scholes_call(S, K, r, tau, r_n) - marketprice \n",
    "        \n",
    "        y = (l_n + r_n) / 2\n",
    "        f_y = black_scholes_call(S, K, r, tau, y) - marketprice \n",
    "        \n",
    "        if f_a * f_y < 0: \n",
    "            r_n = y\n",
    "        elif f_b * f_y < 0: \n",
    "            l_n = y\n",
    "        elif f_y == 0:  \n",
    "            return y\n",
    "        else: \n",
    "            print(\"Error in bisection method.\")\n",
    "    return ((r_n + l_n) / 2)\n",
    "    \n",
    "iv = impliedvol_bisection(S=50, K=50, r=0.05, tau=1.0, marketprice = 7.11562, a=0.1, b=0.6, tolerance = 0.0000001)\n",
    "print(iv)"
   ]
  },
  {
   "cell_type": "code",
   "execution_count": 4,
   "metadata": {},
   "outputs": [],
   "source": [
    "# Functions copied from the worksheet for Lecture 12 using the Newton method for comparison\n",
    "def bs_vega(S, K, r, tau, sigma):\n",
    "    d1 = (np.log(S / K) + (r + 0.5 * sigma**2) * tau)/(sigma * np.sqrt(tau))\n",
    "    vega = S * np.sqrt(tau) * norm.pdf(d1, loc=0, scale=1)\n",
    "    return vega\n",
    "\n",
    "def find_impliedvol_Newton(S, K, r, tau, marketprice, initialguess):\n",
    "    sigmaold = initialguess\n",
    "    maxiteration = 100\n",
    "    mydiff = 1\n",
    "    for i in range(maxiteration):\n",
    "            callprice = black_scholes_call(S, K, r, tau, sigmaold)\n",
    "            vega = bs_vega(S, K, r, tau, sigmaold)\n",
    "            if (vega < 0.000000001):\n",
    "                return \"Error in vega\"\n",
    "            else: \n",
    "                sigmanew =  sigmaold - (callprice - marketprice) / vega\n",
    "                mydiff = np.abs(sigmaold - sigmanew)\n",
    "                sigmaold = sigmanew\n",
    "            \n",
    "            if (mydiff < 0.0000001): \n",
    "                return sigmaold\n",
    "    return \"Max iteration reached\""
   ]
  },
  {
   "cell_type": "code",
   "execution_count": 5,
   "metadata": {},
   "outputs": [
    {
     "name": "stdout",
     "output_type": "stream",
     "text": [
      "Computation time for Newton method is 0.01595759\n",
      "Computation time for Bisection method is 0.09425735\n"
     ]
    },
    {
     "data": {
      "image/png": "[encoded data removed]",
      "text/plain": [
       "<Figure size 432x288 with 1 Axes>"
      ]
     },
     "metadata": {
      "needs_background": "light"
     },
     "output_type": "display_data"
    }
   ],
   "source": [
    "# Example for computing implied volatility\n",
    "\n",
    "teststrikes = np.array([60, 70, 80, 90, 100, 110, 120])\n",
    "testprices = np.array([22, 11, 4, 1, 0.4, 0.1, 0.05])\n",
    "S0=80\n",
    "testimpliedvols1 = np.zeros(7)\n",
    "testimpliedvols2 = np.zeros(7)\n",
    "\n",
    "# Computing implied volatities using Newton's method        \n",
    "start = time.time()\n",
    "for i in range(teststrikes.size):\n",
    "    testimpliedvols1[i] = find_impliedvol_Newton(S=S0, K=teststrikes[i], r=0.0, tau=1.0, marketprice=testprices[i], initialguess=0.5)\n",
    "runtime = time.time()-start\n",
    "print('Computation time for Newton method is {:.8f}'.format(runtime))\n",
    "\n",
    "# Computing implied volatities using Bisection method   \n",
    "start = time.time()\n",
    "for i in range(teststrikes.size):\n",
    "    testimpliedvols2[i] = impliedvol_bisection(S=S0, K=teststrikes[i], r=0.0, tau=1.0, marketprice = testprices[i], a=0.00001, b=0.5, tolerance = 0.000000001)\n",
    "runtime = time.time()-start\n",
    "print('Computation time for Bisection method is {:.8f}'.format(runtime))\n",
    "        \n",
    "# Plotting implied volatilities   \n",
    "fig, ax = plt.subplots(nrows=1, ncols=1)\n",
    "ax.plot(teststrikes, testimpliedvols1, label=\"Implied vol based on Newton method\")\n",
    "ax.plot(teststrikes, testimpliedvols2, color=\"red\", linestyle=\"dashed\", label=\"Implied vol based on Bisection method\")\n",
    "ax.set_xlabel(\"Strike\")\n",
    "ax.set_ylabel(\"Implied volatilities\") \n",
    "ax.legend(loc=\"upper right\"); \n",
    "   "
   ]
  },
  {
   "cell_type": "markdown",
   "metadata": {},
   "source": [
    "Above we compared the computational time of both methods, and find that the Newton method is faster here, which is an advantage. One possible disadvantage of the Netwon method is that one needs to compute compute the derivative of the function, which is not required for the Bisection method. "
   ]
  },
  {
   "cell_type": "code",
   "execution_count": null,
   "metadata": {},
   "outputs": [],
   "source": []
  }
 ],
 "metadata": {
  "anaconda-cloud": {},
  "kernelspec": {
   "display_name": "Python 3 (ipykernel)",
   "language": "python",
   "name": "python3"
  },
  "language_info": {
   "codemirror_mode": {
    "name": "ipython",
    "version": 3
   },
   "file_extension": ".py",
   "mimetype": "text/x-python",
   "name": "python",
   "nbconvert_exporter": "python",
   "pygments_lexer": "ipython3",
   "version": "3.9.7"
  }
 },
 "nbformat": 4,
 "nbformat_minor": 1
}
