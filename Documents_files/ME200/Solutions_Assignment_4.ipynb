{
 "cells": [
  {
   "cell_type": "markdown",
   "metadata": {},
   "source": [
    "ME200, Johannes Ruf and Luitgard Veraart"
   ]
  },
  {
   "cell_type": "markdown",
   "metadata": {},
   "source": [
    "# Solutions to Assignment 4"
   ]
  },
  {
   "cell_type": "markdown",
   "metadata": {},
   "source": [
    "## Exercise 18"
   ]
  },
  {
   "cell_type": "markdown",
   "metadata": {},
   "source": [
    "Part 1: The output of this code will print 1 and -1."
   ]
  },
  {
   "cell_type": "markdown",
   "metadata": {},
   "source": [
    "Part 2: The output of this code will print 1. "
   ]
  },
  {
   "cell_type": "markdown",
   "metadata": {},
   "source": [
    "## Exercise 19"
   ]
  },
  {
   "cell_type": "markdown",
   "metadata": {},
   "source": [
    "Let $F$ denote the CDF of the exponential distribution with parameter $\\mu$. \n",
    "From the lecture, we have\n",
    "\n",
    "$$\n",
    "F^{-1} (u) = - \\frac{\\ln(1-u)} {\\mu} .\n",
    "$$\n",
    "\n",
    "Adapting the code from the lecture, say for $\\mu = \\frac{1}{10}$, we have:"
   ]
  },
  {
   "cell_type": "code",
   "execution_count": 6,
   "metadata": {},
   "outputs": [],
   "source": [
    "import numpy as np\n",
    "import matplotlib.pyplot as plt"
   ]
  },
  {
   "cell_type": "code",
   "execution_count": 7,
   "metadata": {},
   "outputs": [],
   "source": [
    "mu = 1/10\n",
    "sample_size = 100_000"
   ]
  },
  {
   "cell_type": "code",
   "execution_count": 8,
   "metadata": {},
   "outputs": [],
   "source": [
    "#rng = np.random.default_rng(seed=12345) \n",
    "#u = rng.random(size=sample_size)\n",
    "\n",
    "np.random.seed(12345) \n",
    "u = np.random.random(size=sample_size)\n",
    "samples = -np.log(u) / mu"
   ]
  },
  {
   "cell_type": "code",
   "execution_count": 9,
   "metadata": {},
   "outputs": [],
   "source": [
    "#samples_numpy = rng.exponential(size=sample_size, scale=1/mu)\n",
    "samples_numpy = np.random.exponential(size=sample_size, scale=1/mu)"
   ]
  },
  {
   "cell_type": "code",
   "execution_count": 10,
   "metadata": {},
   "outputs": [
    {
     "data": {
      "image/png": "[encoded data removed]",
      "text/plain": [
       "<Figure size 1080x576 with 2 Axes>"
      ]
     },
     "metadata": {
      "needs_background": "light"
     },
     "output_type": "display_data"
    }
   ],
   "source": [
    "_, axs = plt.subplots(nrows=1, ncols=2, figsize=(15, 8))\n",
    "axs[0].hist(samples, bins=1000, density=True);\n",
    "axs[0].set_title('Histogram of random numbers generated by inverse transform method')\n",
    "axs[1].hist(samples_numpy, bins=1000, density=True);\n",
    "axs[1].set_title('Histogram of random numbers generated by NumPy directly');\n",
    "for ax in axs:\n",
    "    ax.set_ylim([0, 0.12]);\n",
    "    ax.set_xlim([0, 100]);"
   ]
  },
  {
   "cell_type": "markdown",
   "metadata": {},
   "source": [
    "## Exercise 20"
   ]
  },
  {
   "cell_type": "markdown",
   "metadata": {},
   "source": [
    "To determine $c$, let us observe that\n",
    "\n",
    "$$\n",
    "  1 =  \\sum_{i = 1}^4  P[X = i] = c \\sum_{i = 1}^4 i = 10 c.\n",
    "$$\n",
    "\n",
    "Hence, $c = 0.1$."
   ]
  },
  {
   "cell_type": "code",
   "execution_count": 11,
   "metadata": {},
   "outputs": [],
   "source": [
    "import numpy as np\n",
    "import matplotlib.pyplot as plt"
   ]
  },
  {
   "cell_type": "code",
   "execution_count": 12,
   "metadata": {},
   "outputs": [],
   "source": [
    "sample_size = 1000\n",
    "c = 0.1\n",
    "samples = np.array([])   # empty array"
   ]
  },
  {
   "cell_type": "code",
   "execution_count": 13,
   "metadata": {},
   "outputs": [],
   "source": [
    "#rng = np.random.default_rng(seed=443322)\n",
    "np.random.seed(443322)\n",
    "\n",
    "for i in range(sample_size):\n",
    "    #u = rng.random()\n",
    "    u = np.random.random()\n",
    "    if u < c:\n",
    "        tmp = 1\n",
    "    elif u < 3 * c:\n",
    "        tmp = 2\n",
    "    elif u < 6 * c:\n",
    "        tmp = 3\n",
    "    else:\n",
    "        tmp = 4\n",
    "        \n",
    "    samples = np.append(samples, tmp)"
   ]
  },
  {
   "cell_type": "code",
   "execution_count": 14,
   "metadata": {},
   "outputs": [
    {
     "data": {
      "image/png": "[encoded data removed]",
      "text/plain": [
       "<Figure size 432x288 with 1 Axes>"
      ]
     },
     "metadata": {
      "needs_background": "light"
     },
     "output_type": "display_data"
    }
   ],
   "source": [
    "fig, ax = plt.subplots()\n",
    "ax.hist(samples, bins=100);"
   ]
  },
  {
   "cell_type": "markdown",
   "metadata": {},
   "source": [
    "## Exercise 21"
   ]
  },
  {
   "cell_type": "markdown",
   "metadata": {},
   "source": [
    "First, we need to determine the CDF of the logistic distribution. Using substitution, we get\n",
    "\n",
    "$$\n",
    "  F(x) = \\int_{-\\infty}^x f(t) dt = - \\int_{\\infty}^{\\mathrm{e}^{-x}} \\frac{1}{(1+u)^2} du\n",
    "    = \\frac{1}{1 + \\mathrm{e}^{-x}}.\n",
    "$$\n",
    "\n",
    "Computing the inverse $F^{-1}$, we get\n",
    "\n",
    "$$\n",
    " F^{-1}(u) = \\log\\left(\\frac{u}{1-u}\\right).\n",
    "$$\n",
    "\n"
   ]
  },
  {
   "cell_type": "code",
   "execution_count": 15,
   "metadata": {},
   "outputs": [],
   "source": [
    "import numpy as np\n",
    "import matplotlib.pyplot as plt"
   ]
  },
  {
   "cell_type": "code",
   "execution_count": 16,
   "metadata": {},
   "outputs": [],
   "source": [
    "sample_size = 10000"
   ]
  },
  {
   "cell_type": "code",
   "execution_count": 17,
   "metadata": {},
   "outputs": [],
   "source": [
    "#rng = np.random.default_rng(seed=1111)\n",
    "#u = rng.random(size=sample_size)\n",
    "\n",
    "np.random.seed(1111)\n",
    "u = np.random.random(size=sample_size)\n",
    "\n",
    "samples = np.log(u / (1-u))"
   ]
  },
  {
   "cell_type": "code",
   "execution_count": 18,
   "metadata": {},
   "outputs": [
    {
     "data": {
      "image/png": "[encoded data removed]",
      "text/plain": [
       "<Figure size 432x288 with 1 Axes>"
      ]
     },
     "metadata": {
      "needs_background": "light"
     },
     "output_type": "display_data"
    }
   ],
   "source": [
    "fig, ax = plt.subplots()\n",
    "ax.hist(samples, bins=100, density=True);"
   ]
  },
  {
   "cell_type": "markdown",
   "metadata": {},
   "source": [
    "## Exercise 22"
   ]
  },
  {
   "cell_type": "code",
   "execution_count": 19,
   "metadata": {},
   "outputs": [],
   "source": [
    "import numpy as np"
   ]
  },
  {
   "cell_type": "code",
   "execution_count": 20,
   "metadata": {},
   "outputs": [],
   "source": [
    "def fib(n):\n",
    "    if n == 1:\n",
    "        return np.array([1])\n",
    "    if n == 2:\n",
    "        return np.array([1, 1])\n",
    "    \n",
    "    numbers = np.array([1, 1])\n",
    "    \n",
    "    for i in range(3, n+1):\n",
    "        numbers = np.append(numbers, numbers[-1] + numbers[-2])\n",
    "    return numbers"
   ]
  },
  {
   "cell_type": "code",
   "execution_count": 21,
   "metadata": {},
   "outputs": [
    {
     "data": {
      "text/plain": [
       "array([  1,   1,   2,   3,   5,   8,  13,  21,  34,  55,  89, 144, 233,\n",
       "       377, 610])"
      ]
     },
     "execution_count": 21,
     "metadata": {},
     "output_type": "execute_result"
    }
   ],
   "source": [
    "fib(15)"
   ]
  },
  {
   "cell_type": "code",
   "execution_count": null,
   "metadata": {},
   "outputs": [],
   "source": []
  },
  {
   "cell_type": "code",
   "execution_count": null,
   "metadata": {},
   "outputs": [],
   "source": []
  }
 ],
 "metadata": {
  "anaconda-cloud": {},
  "kernelspec": {
   "display_name": "Python 3 (ipykernel)",
   "language": "python",
   "name": "python3"
  },
  "language_info": {
   "codemirror_mode": {
    "name": "ipython",
    "version": 3
   },
   "file_extension": ".py",
   "mimetype": "text/x-python",
   "name": "python",
   "nbconvert_exporter": "python",
   "pygments_lexer": "ipython3",
   "version": "3.9.7"
  }
 },
 "nbformat": 4,
 "nbformat_minor": 4
}
