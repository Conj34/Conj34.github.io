{
 "cells": [
  {
   "cell_type": "markdown",
   "metadata": {},
   "source": [
    "ME200, Johannes Ruf and Luitgard Veraart"
   ]
  },
  {
   "cell_type": "markdown",
   "metadata": {},
   "source": [
    "# Solutions to Assignment 9"
   ]
  },
  {
   "cell_type": "markdown",
   "metadata": {},
   "source": [
    "$ \\def\\pounds{\\unicode{x00A3}} $"
   ]
  },
  {
   "cell_type": "code",
   "execution_count": 1,
   "metadata": {},
   "outputs": [],
   "source": [
    "import numpy as np\n",
    "import matplotlib.pyplot as plt\n",
    "from scipy.special import comb"
   ]
  },
  {
   "cell_type": "code",
   "execution_count": 2,
   "metadata": {},
   "outputs": [],
   "source": [
    "rng = np.random.default_rng(12345)"
   ]
  },
  {
   "cell_type": "markdown",
   "metadata": {},
   "source": [
    "## Exercise 37: (Pricing a given European option)\n",
    "\n",
    "1. In order to have no arbitrage we need $d < 1+r < u$ which is equivalent to $-\\frac{2}{3} < r < 2$. \n",
    "2. Here $\\tilde{p} = \\frac{1+r - d}{u-d} = \\frac{1+\\frac{2}{3} - \\frac{1}{3}}{3-\\frac{1}{3}}=\\frac{1}{2}$ and the time-0 price is given by\n",
    "\\begin{align*}\n",
    "V_0&=X_0^{\\varphi} = \\frac{1}{(1+r)^2} \\left( V_2(HH) \\tilde{p}^2 + V_2(HT) \\tilde{p}(1-\\tilde{p}) + V_2(TH) \\tilde{p}(1 - \\tilde{p}) + V_2(TT)(1-\\tilde{p})^2\\right)\\\\\n",
    "&=\\frac{1}{(1+\\frac{2}{3})^2} \\left( (1-x) \\frac{1}{4} + 2 x  \\frac{1}{4} + (x - \\frac{1}{2})  \\frac{1}{4}\\right) \\\\\n",
    "&= \\frac{9}{25} \\frac{1}{4} \\left(2x + \\frac{1}{2}\\right)\\\\\n",
    "&= \\frac{9}{25} \\frac{1}{2}  x + \\frac{9}{25} \\frac{1}{8}. \n",
    "\\end{align*}"
   ]
  },
  {
   "cell_type": "markdown",
   "metadata": {},
   "source": [
    "## Exercise 38: (Asian option)\n",
    "1. Suppose at time $n$ we have $S_n=s$ and $Y_n=y$. Then at time $n+1$ we have:\n",
    " \n",
    " + if the coin toss is H: $S_{n+1} = us$, $Y_{n+1}=Y_n + S_{n+1} = Y_n + u S_n$. \n",
    " + if the coin toss is T: $S_{n+1} = ds$, $Y_{n+1}=Y_n + S_{n+1} = Y_n + d S_n$.\n",
    "\n",
    "Therefore, formula (8.13) and (8.14) take the form\n",
    "\\begin{align*}\n",
    "v_n(s, y) = \\frac{1}{1+r} \\left( \\tilde{p} v_{n+1}(us, y+us) + (1-\\tilde{p}) v_{n+1}(ds, y+ds) \\right)\n",
    "\\end{align*}\n",
    "and \n",
    "\\begin{align*}\n",
    "\\Delta_n(s,y) = \\frac{v_{n+1}(us, y+us) - v_{n+1} (ds, y+ds)}{us -ds}. \n",
    "\\end{align*}\n",
    "\n",
    "2. Then, we obtain\n",
    "\\begin{align*}\n",
    "v_3(32, 60)&=(60/4-4)^+=11,\\\\ \n",
    "v_3(8, 36)&=(36/4-4)^+=5, \\\\\n",
    "v_3(8, 24)&=(24/4-4)^+=2, \\\\\n",
    "v_3(8, 18)&=(18/4-4)^+=0.5, \\\\\n",
    "v_3(2, 18)&=(18/4-4)^+=0.5, \\\\\n",
    "v_3(2, 12)&=(12/4-4)^+=0, \\\\\n",
    "v_3(2, 9)&=(9/4-4)^+=0, \\\\\n",
    "v_3(0.5, 7.5)&=(7.5/4-4)^+=0. \n",
    "\\end{align*}\n",
    "Next we use the recursion to compute $v_2$: \n",
    "\\begin{align*}\n",
    "v_2(16, 28)& =\\frac{4}{5} \\left( \\frac{1}{2} v_3(32, 60) + \\frac{1}{2} v_3(8, 36)\\right)=\\frac{2}{5}(11+5)=6.4, \\\\\n",
    "v_2(4, 16)& =\\frac{4}{5} \\left( \\frac{1}{2} v_3(8, 24) + \\frac{1}{2} v_3(2, 18)\\right)=\\frac{2}{5}(2+0.5)=1, \\\\\n",
    "v_2(4, 10)& =\\frac{4}{5} \\left( \\frac{1}{2} v_3(8, 18) + \\frac{1}{2} v_3(2, 12)\\right)=\\frac{2}{5}(0.5+0)=0.2, \\\\\n",
    "v_2(1, 7)& =\\frac{4}{5} \\left( \\frac{1}{2} v_3(2, 9) + \\frac{1}{2} v_3(0.5, 7.5)\\right)=\\frac{2}{5}(0+0)=0. \n",
    "\\end{align*}\n",
    "Again we use the recursion to compute $v_1$: \n",
    "\\begin{align*}\n",
    "v_1(8, 12)&=\\frac{4}{5} \\left( \\frac{1}{2} v_2(16, 28) + \\frac{1}{2} v_2(4, 16)\\right)=\\frac{2}{5}(6.4+1)=2.96, \\\\\n",
    "v_1(2, 6)&=\\frac{4}{5} \\left( \\frac{1}{2} v_2(4, 10) + \\frac{1}{2} v_2(1, 7)\\right)=\\frac{2}{5}(0.2 + 0)=0.08. \n",
    "\\end{align*}\n",
    "Finally, we get the time-0 price: \n",
    "\\begin{align*}\n",
    "v_0(4, 4)&=\\frac{4}{5} \\left( \\frac{1}{2} v_1(8, 12) + \\frac{1}{2} v_2(2, 6)\\right)=\\frac{2}{5}(2.96+0.08)=1.216. \n",
    "\\end{align*}\n",
    "3. The formula for $\\Delta_n(s, y)$ has been derived in part 1."
   ]
  },
  {
   "cell_type": "markdown",
   "metadata": {},
   "source": [
    "## Exercise 39: (Generating samples from the normal distribution)\n",
    "\n",
    "1. \n",
    "\\begin{align*}\n",
    "\\textrm{E}[Z] = \\textrm{E}[\\sum_{i=1}^{12} U_i] = \\sum_{i=1}^{12} \\textrm{E}[U_i] = \\sum_{i=1}^{12} \\frac{1}{2}\\left(\\frac{1}{2} - \\frac{1}{2} \\right)=0  \n",
    "\\end{align*}\n",
    "and\n",
    "\\begin{align*}\n",
    "\\textrm{Var}(Z)=\\textrm{Var}(\\sum_{i=1}^{12} U_i) = \\sum_{i=1}^{12} \\textrm{Var}(U_i) = \n",
    "\\sum_{i=1}^{12} \\frac{1}{12}\\left(\\frac{1}{2}-\\left(-\\frac{1}{2}\\right) \\right)^2=1,  \n",
    "\\end{align*}\n",
    "where we use the fact that the $U_i$ are independent when we wrote that the variance of the sum is equal to the sum of the variances. \n",
    "\n",
    "2. We apply the Central Limit Theorem to the sample of the $U_i$ with \n",
    "$U \\sim \\textrm{Unif}\\left(-\\frac{1}{2}, \\frac{1}{2}\\right)$. Then,  \n",
    "\\begin{align*}\n",
    "\\frac{\\frac{1}{n} \\sum_{i=1}^n U_i - \\textrm{E}[U]}{\\sqrt{\\frac{\\textrm{Var}(U)}{n}}}\n",
    "=\\frac{\\frac{1}{n} \\sum_{i=1}^n U_i}{\\sqrt{\\frac{1/12}{n}}}\n",
    "=\\frac{\\frac{1}{\\sqrt{n}} \\sum_{i=1}^n U_i}{\\sqrt{1/12}}\n",
    "\\end{align*}\n",
    "follows a standard normal distribution for large $n$. Now with $n=12$ we find that\n",
    "\\begin{align*}\n",
    "\\frac{\\frac{1}{\\sqrt{12}} \\sum_{i=1}^{12} U_i}{\\sqrt{1/12}} = Z\n",
    "\\end{align*}\n",
    "and hence $Z$ has approximately a standard normal distribution by the Central Limit Theorem. \n"
   ]
  },
  {
   "cell_type": "code",
   "execution_count": 3,
   "metadata": {},
   "outputs": [
    {
     "data": {
      "image/png": "[encoded data removed]",
      "text/plain": [
       "<Figure size 1080x576 with 2 Axes>"
      ]
     },
     "metadata": {
      "needs_background": "light"
     },
     "output_type": "display_data"
    }
   ],
   "source": [
    "samplesize = 100000\n",
    "Zs = np.zeros(samplesize)\n",
    "\n",
    "for i in range(samplesize): \n",
    "    u = rng.random(size=12)\n",
    "    nonstandardu = -0.5 + u\n",
    "    # Alternatively could use \n",
    "    # nonstandardu = rng.uniform(low=-0.5, high=0.5, size=12)\n",
    "    Zs[i] = nonstandardu.sum()\n",
    "    \n",
    "sample_numpy = rng.standard_normal(size = samplesize) \n",
    "    \n",
    "\n",
    "_, axs = plt.subplots(nrows=1, ncols=2, figsize=(15, 8))\n",
    "axs[0].hist(Zs, bins=1000, density=True);\n",
    "axs[0].set_title('Histogram of random numbers generated by antiquated generator')\n",
    "axs[1].hist(sample_numpy, bins=1000, density=True);\n",
    "axs[1].set_title('Histogram of random numbers generated by NumPy directly');\n",
    "for ax in axs:\n",
    "    ax.set_ylim([0, 0.6]);\n",
    "    ax.set_xlim([-4, 4]);\n"
   ]
  },
  {
   "cell_type": "code",
   "execution_count": null,
   "metadata": {},
   "outputs": [],
   "source": []
  },
  {
   "cell_type": "code",
   "execution_count": null,
   "metadata": {},
   "outputs": [],
   "source": []
  }
 ],
 "metadata": {
  "anaconda-cloud": {},
  "kernelspec": {
   "display_name": "Python 3 (ipykernel)",
   "language": "python",
   "name": "python3"
  },
  "language_info": {
   "codemirror_mode": {
    "name": "ipython",
    "version": 3
   },
   "file_extension": ".py",
   "mimetype": "text/x-python",
   "name": "python",
   "nbconvert_exporter": "python",
   "pygments_lexer": "ipython3",
   "version": "3.9.7"
  }
 },
 "nbformat": 4,
 "nbformat_minor": 1
}
