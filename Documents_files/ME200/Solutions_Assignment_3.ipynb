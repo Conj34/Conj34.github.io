{
 "cells": [
  {
   "cell_type": "markdown",
   "metadata": {},
   "source": [
    "ME200, Johannes Ruf and Luitgard Veraart"
   ]
  },
  {
   "cell_type": "markdown",
   "metadata": {},
   "source": [
    "# Solutions to Assignment 3"
   ]
  },
  {
   "cell_type": "markdown",
   "metadata": {},
   "source": [
    "## Exercise 13"
   ]
  },
  {
   "cell_type": "markdown",
   "metadata": {},
   "source": [
    "The *variance* of an r.v. $X$ is\n",
    "\n",
    "$$\n",
    "\t{\\rm Var}(X) = E[(X  - E[X])^2].\n",
    "$$\n",
    "\n",
    "The square root of the variance is called the *standard deviation*:\n",
    "\n",
    "$$\n",
    "\t{\\rm SD}(X) = \\sqrt{{\\rm Var}(X)}.\n",
    "$$"
   ]
  },
  {
   "cell_type": "markdown",
   "metadata": {},
   "source": [
    "## Exercise 14"
   ]
  },
  {
   "cell_type": "markdown",
   "metadata": {},
   "source": [
    "$$\n",
    "\t{\\rm Var}(X + c) = E[(X + c  - E[X + c])^2] = E[(X   - E[X ])^2] = {\\rm Var}(X).\n",
    "$$\n",
    "\n",
    "$$\n",
    "\t{\\rm Var}(c X) = E[(c X  - E[c X])^2] = E[c^2 (X   - E[X ])^2] = c ^2 E[ (X   - E[X ])^2] = c^2 {\\rm Var}(X).\n",
    "$$"
   ]
  },
  {
   "cell_type": "markdown",
   "metadata": {},
   "source": [
    "## Exercise 15"
   ]
  },
  {
   "cell_type": "markdown",
   "metadata": {},
   "source": [
    "Let $X$ be exponentially distributed with parameter $\\mu$. Then integration by parts yields\n",
    "\n",
    "$$\n",
    "  E[X] = \\int_0^\\infty x \\mu \\mathrm e^{-\\mu x} dx = \\left. - x  \\mathrm e^{-\\mu x}\\right|_0^\\infty \n",
    "    + \\int_0^\\infty \\mathrm e^{-\\mu x} dx = 0 -  \\left. \\frac{1}{\\mu} \\mathrm e^{-\\mu x}\\right|_0^\\infty = \\frac{1}{\\mu}.\n",
    "$$\n"
   ]
  },
  {
   "cell_type": "markdown",
   "metadata": {},
   "source": [
    "## Exercise 16"
   ]
  },
  {
   "cell_type": "code",
   "execution_count": 7,
   "metadata": {},
   "outputs": [],
   "source": [
    "import numpy as np"
   ]
  },
  {
   "cell_type": "code",
   "execution_count": 8,
   "metadata": {},
   "outputs": [],
   "source": [
    "sample_size = 100_000_000\n",
    "mu = 4\n",
    "std = 3"
   ]
  },
  {
   "cell_type": "code",
   "execution_count": 9,
   "metadata": {},
   "outputs": [],
   "source": [
    "x = np.random.normal(size=sample_size, loc=mu, scale=std)"
   ]
  },
  {
   "cell_type": "markdown",
   "metadata": {},
   "source": [
    "Sample mean:"
   ]
  },
  {
   "cell_type": "code",
   "execution_count": 10,
   "metadata": {},
   "outputs": [
    {
     "data": {
      "text/plain": [
       "3.9999144535186435"
      ]
     },
     "execution_count": 10,
     "metadata": {},
     "output_type": "execute_result"
    }
   ],
   "source": [
    "x.mean()"
   ]
  },
  {
   "cell_type": "markdown",
   "metadata": {},
   "source": [
    "Sample standard deviation:"
   ]
  },
  {
   "cell_type": "code",
   "execution_count": 11,
   "metadata": {},
   "outputs": [
    {
     "data": {
      "text/plain": [
       "3.0004925779793066"
      ]
     },
     "execution_count": 11,
     "metadata": {},
     "output_type": "execute_result"
    }
   ],
   "source": [
    "x.std()"
   ]
  },
  {
   "cell_type": "markdown",
   "metadata": {},
   "source": [
    " ## Exercise 17"
   ]
  },
  {
   "cell_type": "markdown",
   "metadata": {},
   "source": [
    "The two functions indeed satisfy the condition $g''(x) \\geq 0$. Thus we can use them to check whether the inequality holds."
   ]
  },
  {
   "cell_type": "code",
   "execution_count": 54,
   "metadata": {},
   "outputs": [],
   "source": [
    "import numpy as np"
   ]
  },
  {
   "cell_type": "code",
   "execution_count": 55,
   "metadata": {},
   "outputs": [],
   "source": [
    "sample_size = 1000"
   ]
  },
  {
   "cell_type": "markdown",
   "metadata": {},
   "source": [
    "We will use samples from Unif(0,1) and from N(0,1) here, but of course we should try out many different possibilities."
   ]
  },
  {
   "cell_type": "code",
   "execution_count": 56,
   "metadata": {},
   "outputs": [],
   "source": [
    "samples_normal = np.random.standard_normal(size=sample_size)\n",
    "samples_uniform = np.random.random(size=sample_size)"
   ]
  },
  {
   "cell_type": "markdown",
   "metadata": {},
   "source": [
    "Let's first try $g(x)=x^2$:"
   ]
  },
  {
   "cell_type": "code",
   "execution_count": 57,
   "metadata": {},
   "outputs": [
    {
     "data": {
      "text/plain": [
       "True"
      ]
     },
     "execution_count": 57,
     "metadata": {},
     "output_type": "execute_result"
    }
   ],
   "source": [
    "samples_normal.mean()**2 <= (samples_normal**2).mean() "
   ]
  },
  {
   "cell_type": "code",
   "execution_count": 58,
   "metadata": {},
   "outputs": [
    {
     "data": {
      "text/plain": [
       "True"
      ]
     },
     "execution_count": 58,
     "metadata": {},
     "output_type": "execute_result"
    }
   ],
   "source": [
    "samples_uniform.mean()**2 <= (samples_uniform**2).mean() "
   ]
  },
  {
   "cell_type": "markdown",
   "metadata": {},
   "source": [
    "Let's no try $g(x)=x^4 + 2 * x^2$:"
   ]
  },
  {
   "cell_type": "code",
   "execution_count": 59,
   "metadata": {},
   "outputs": [
    {
     "data": {
      "text/plain": [
       "True"
      ]
     },
     "execution_count": 59,
     "metadata": {},
     "output_type": "execute_result"
    }
   ],
   "source": [
    "lhs = samples_normal.mean()**4 + 2 * samples_normal.mean()**2\n",
    "rhs = (samples_normal**4 + 2 * samples_normal**2).mean()\n",
    "lhs <= rhs"
   ]
  },
  {
   "cell_type": "code",
   "execution_count": 60,
   "metadata": {},
   "outputs": [
    {
     "data": {
      "text/plain": [
       "True"
      ]
     },
     "execution_count": 60,
     "metadata": {},
     "output_type": "execute_result"
    }
   ],
   "source": [
    "lhs = samples_uniform.mean()**4 + 2 * samples_uniform.mean()**2\n",
    "rhs = (samples_uniform**4 + 2 * samples_uniform**2).mean()\n",
    "lhs <= rhs"
   ]
  },
  {
   "cell_type": "markdown",
   "metadata": {},
   "source": [
    "We always get True, which confirms the inequality. (Of course, we usually would need to prove it but we won't have time to prove Jensen's inequality in this course.)\n",
    "\n",
    "Tomorrow we will introduce Python functions. Using such functions would simplify the code, especially for the second example."
   ]
  },
  {
   "cell_type": "code",
   "execution_count": null,
   "metadata": {},
   "outputs": [],
   "source": []
  }
 ],
 "metadata": {
  "anaconda-cloud": {},
  "kernelspec": {
   "display_name": "Python 3 (ipykernel)",
   "language": "python",
   "name": "python3"
  },
  "language_info": {
   "codemirror_mode": {
    "name": "ipython",
    "version": 3
   },
   "file_extension": ".py",
   "mimetype": "text/x-python",
   "name": "python",
   "nbconvert_exporter": "python",
   "pygments_lexer": "ipython3",
   "version": "3.9.7"
  }
 },
 "nbformat": 4,
 "nbformat_minor": 4
}
