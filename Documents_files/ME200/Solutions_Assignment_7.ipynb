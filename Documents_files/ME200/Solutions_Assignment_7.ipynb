{
 "cells": [
  {
   "cell_type": "markdown",
   "metadata": {},
   "source": [
    "ME200, Johannes Ruf and Luitgard Veraart"
   ]
  },
  {
   "cell_type": "markdown",
   "metadata": {},
   "source": [
    "# Solutions to Assignment 7"
   ]
  },
  {
   "cell_type": "markdown",
   "metadata": {},
   "source": [
    "## Exercise 31: (Checking that the risk-neutral probability is a probability)\n",
    "\n",
    "To see that $\\tilde{p} = \\frac{1+r-d}{u-d} \\in (0, 1)$ observe that by assumption $u>d>0$ and hence $u-d>0$. Furthermore by assumption $1+r > d$ and hence $1+r-d >0$. Hence, $\\tilde{p}>0$. Furthermore, \n",
    "\\begin{align*}\n",
    "\\frac{1+r - d}{u-d} < 1 \n",
    "\\Leftrightarrow 1+ r - d < u - d\n",
    "\\Leftrightarrow 1+r < u\n",
    "\\end{align*}\n",
    "which is satisfied by assumption of the no-arbitrage condition. Hence, indeed $\\tilde{p} \\in (0, 1)$. \n",
    "\n",
    "Furthermore, \n",
    "\n",
    "\\begin{align*}\n",
    "1-\\tilde{p} = \\frac{u-d - (1+r -d)}{u-d} = \\frac{u - 1 - r}{u-d}. \n",
    "\\end{align*}"
   ]
  },
  {
   "cell_type": "markdown",
   "metadata": {},
   "source": [
    "## Exercise 32: (Sufficient condition for no-arbitrage)\n",
    "\n",
    "Let $d < 1+r < u$. We show that there exists no trading strategy $\\varphi$ satisfying\n",
    "\\begin{align*}\n",
    "X_0^{\\varphi} = 0, \\quad P[X_1^{\\varphi} \\geq 0]=1, \\quad P[X_1^{\\varphi} > 0]>0.\n",
    "\\end{align*}\n",
    "\n",
    "Observe that\n",
    "\\begin{align*}\n",
    "d < 1+r < u \\Longleftrightarrow \\frac{d}{1+r} < 1 < \\frac{u}{1+r} \\\\\n",
    "\\Longleftrightarrow \\frac{dS_0}{1+r} < S_0 < \\frac{uS_0}{1+r}\n",
    "\\Longleftrightarrow \\frac{S_1(T)}{1+r} < S_0 < \\frac{S_1(H)}{1+r} \\\\\n",
    "\\Longleftrightarrow \\frac{S_1(T)}{1+r} - S_0 < 0 < \\frac{S_1(H)}{1+r} - S_0\n",
    "\\end{align*}\n",
    "and the last inequalities implies that there is no arbitrage. To see this consider any trading strategy $\\varphi=(\\beta_0, \\Delta_0)$ with $X_0^{\\varphi}=\\beta_0 B_0 + \\Delta_0 S_0 = \\beta_0 + \\Delta_0 S_0 = 0$. Then, $\\beta_0 = - \\Delta_0 S_0$ and \n",
    "\\begin{align*}\n",
    "X_1^{\\varphi} = -\\Delta_0 S_0 B_1 + \\Delta_0 S_1 = \n",
    "\\Delta_0 (1+r) \\left(- S_0 + \\frac{S_1}{1+r}\\right). \n",
    "\\end{align*}\n",
    "We have just seen that $-S_0 + \\frac{S_1}{1+r}$ can take both a positive and a negative value with positive probability and hence $P[X_1^{\\varphi} \\geq 0] = 1$ cannot hold and hence there is no arbitrage in the one-period binomial model.  "
   ]
  },
  {
   "cell_type": "markdown",
   "metadata": {},
   "source": [
    "## Exercise 33: (Pricing a European put option)\n",
    "With $S_0=4$, $u=2$, $d=\\frac{1}{2}$, $r=\\frac{1}{4}$ the time-0 price of the European put option with strike price $K=5$ is given by\n",
    "\n",
    "\\begin{align*}\n",
    "V_0 &= \\frac{1}{1+r} \\left( V_1(H) \\frac{1+r-d}{u-d}  + V_1(T) \\frac{u-1-r}{u-d}\\right)\\\\\n",
    "&= \\frac{1}{1+\\frac{1}{4}} \\left( V_1(H) \\frac{1}{2} + V_1(T) \\frac{1}{2}\\right)\\\\\n",
    "&=\\frac{4}{5} \\frac{1}{2} \\left((K-uS_0)^+ + (K-dS_0)^+ \\right)\\\\\n",
    "&=\\frac{2}{5} \\left( (5-8)^+ + (5 - 2)^+ \\right)\\\\\n",
    "&=\\frac{2}{5} 3 = \\frac{6}{5}. \n",
    "\\end{align*}\n",
    "\n",
    "We can implement this in Python as follows: "
   ]
  },
  {
   "cell_type": "code",
   "execution_count": 1,
   "metadata": {},
   "outputs": [],
   "source": [
    "import numpy as np "
   ]
  },
  {
   "cell_type": "code",
   "execution_count": 2,
   "metadata": {},
   "outputs": [
    {
     "name": "stdout",
     "output_type": "stream",
     "text": [
      "1.2000000000000002\n"
     ]
    }
   ],
   "source": [
    "def putprice(S0, u, d, r, K): \n",
    "    ptilde = (1+r-d) / (u-d)\n",
    "    V1H = np.maximum(K - u * S0, 0)\n",
    "    V1T = np.maximum(K - d * S0, 0)\n",
    "    price = (1 / (1 + r)) * (ptilde * V1H + (1 - ptilde) * V1T)\n",
    "    return(price)\n",
    "\n",
    "print(putprice(S0=4, u=2, d=0.5, r=0.25, K=5))"
   ]
  },
  {
   "cell_type": "markdown",
   "metadata": {},
   "source": [
    "In this example it turns out that the time-0 call price is equal to the time-0 put price. This is not in general true. In general, the so-call put-call parity holds which in the binomial model is given by $C_0 - P_0 = S_0 - K/(1+r)^N$, where $C_0, P_0$ denote the price of the European call and put option, respectively. Since in this example $S_0=4$, $K=5$, $(1+r)^1=5/4$ we find indeed that $S_0 - K/(1+r)^N=0$ and hence $C_0=P_0$.   "
   ]
  },
  {
   "cell_type": "code",
   "execution_count": null,
   "metadata": {},
   "outputs": [],
   "source": []
  }
 ],
 "metadata": {
  "anaconda-cloud": {},
  "kernelspec": {
   "display_name": "Python 3 (ipykernel)",
   "language": "python",
   "name": "python3"
  },
  "language_info": {
   "codemirror_mode": {
    "name": "ipython",
    "version": 3
   },
   "file_extension": ".py",
   "mimetype": "text/x-python",
   "name": "python",
   "nbconvert_exporter": "python",
   "pygments_lexer": "ipython3",
   "version": "3.9.7"
  }
 },
 "nbformat": 4,
 "nbformat_minor": 1
}
