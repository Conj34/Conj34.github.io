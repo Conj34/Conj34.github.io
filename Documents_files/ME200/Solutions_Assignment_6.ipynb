{
 "cells": [
  {
   "cell_type": "markdown",
   "metadata": {},
   "source": [
    "ME200, Johannes Ruf and Luitgard Veraart"
   ]
  },
  {
   "cell_type": "markdown",
   "metadata": {},
   "source": [
    "# Solutions to Assignment 6"
   ]
  },
  {
   "cell_type": "markdown",
   "metadata": {},
   "source": [
    "## Exercise 28 -- dice"
   ]
  },
  {
   "cell_type": "code",
   "execution_count": 1,
   "metadata": {},
   "outputs": [],
   "source": [
    "import numpy as np\n",
    "import matplotlib.pyplot as plt"
   ]
  },
  {
   "cell_type": "code",
   "execution_count": 2,
   "metadata": {},
   "outputs": [],
   "source": [
    "sample_size = 500\n",
    "\n",
    "rng = np.random.default_rng(seed=223344)\n",
    "x = rng.choice(np.arange(1, 7), size=sample_size)"
   ]
  },
  {
   "cell_type": "code",
   "execution_count": 3,
   "metadata": {},
   "outputs": [],
   "source": [
    "xbar = np.cumsum(x) / np.arange(1, sample_size + 1)     # rolling average"
   ]
  },
  {
   "cell_type": "code",
   "execution_count": 4,
   "metadata": {},
   "outputs": [
    {
     "data": {
      "image/png": "[encoded data removed]",
      "text/plain": [
       "<Figure size 432x288 with 1 Axes>"
      ]
     },
     "metadata": {
      "needs_background": "light"
     },
     "output_type": "display_data"
    }
   ],
   "source": [
    "fig, ax = plt.subplots()\n",
    "ax.plot(np.arange(1, sample_size + 1), xbar)\n",
    "ax.set_ylim([2, 5])\n",
    "ax.hlines(3.5, xmin=1, xmax=sample_size, color='red')\n",
    "ax.set_title('Plot of xbar against the number of samples');"
   ]
  },
  {
   "cell_type": "markdown",
   "metadata": {},
   "source": [
    "The sample average tends to expected value 3.5 as $k$ increases."
   ]
  },
  {
   "cell_type": "markdown",
   "metadata": {},
   "source": [
    "## Exercise 29"
   ]
  },
  {
   "cell_type": "markdown",
   "metadata": {},
   "source": [
    "$$\n",
    "{\\rm Var} \\left( \\bar{X}_n \\right) = \\frac{1}{n^2} \\sum _{i=1}^n {\\rm Var} \n",
    "(X_i) =  \\frac{1}{n} {\\rm Var}  (X) .\n",
    "$$\n",
    "\n",
    "I.i.d. stands for ``independent and identically distributed''."
   ]
  },
  {
   "cell_type": "markdown",
   "metadata": {},
   "source": [
    "## Exercise 30"
   ]
  },
  {
   "cell_type": "code",
   "execution_count": 1,
   "metadata": {},
   "outputs": [],
   "source": [
    "import numpy as np\n",
    "import matplotlib.pyplot as plt"
   ]
  },
  {
   "cell_type": "code",
   "execution_count": 2,
   "metadata": {},
   "outputs": [],
   "source": [
    "def h(x):\n",
    "    return np.cos(np.exp(3 * x))"
   ]
  },
  {
   "cell_type": "code",
   "execution_count": 7,
   "metadata": {},
   "outputs": [
    {
     "name": "stdout",
     "output_type": "stream",
     "text": [
      "The Monte Carlo approximation of the integral is -0.0968.\n"
     ]
    }
   ],
   "source": [
    "sample_size = 5_000_000\n",
    "\n",
    "rng = np.random.default_rng(seed=334411)\n",
    "x = h(rng.random(size=sample_size))\n",
    "\n",
    "print('The Monte Carlo approximation of the integral is {:.4f}.'.format(np.mean(x)))"
   ]
  },
  {
   "cell_type": "code",
   "execution_count": 8,
   "metadata": {},
   "outputs": [
    {
     "data": {
      "image/png": "[encoded data removed]",
      "text/plain": [
       "<Figure size 432x288 with 1 Axes>"
      ]
     },
     "metadata": {
      "needs_background": "light"
     },
     "output_type": "display_data"
    }
   ],
   "source": [
    "burn_in_samples = 1000\n",
    "\n",
    "fig, ax = plt.subplots()\n",
    "running_average = np.cumsum(x) / np.arange(1, sample_size + 1)\n",
    "ax.plot(np.arange(burn_in_samples, sample_size + 1), running_average[burn_in_samples - 1: ])\n",
    "ax.hlines(-0.097137, xmin=1, xmax=sample_size, color='red')\n",
    "ax.set_title('Plot of xbar against the number of samples');"
   ]
  },
  {
   "cell_type": "code",
   "execution_count": 21,
   "metadata": {},
   "outputs": [
    {
     "name": "stdout",
     "output_type": "stream",
     "text": [
      "[3.14138448]\n"
     ]
    }
   ],
   "source": [
    "sample_size = 100_000_000\n",
    "total = 0\n",
    "for i in range(sample_size):\n",
    "    x = np.random.uniform(low=-1, high=1, size=1)\n",
    "    y = np.random.uniform(low=-1, high=1, size=1)\n",
    "    total += x**2+y**2<=1\n",
    "print(4*total/sample_size)"
   ]
  }
 ],
 "metadata": {
  "anaconda-cloud": {},
  "kernelspec": {
   "display_name": "Python 3 (ipykernel)",
   "language": "python",
   "name": "python3"
  },
  "language_info": {
   "codemirror_mode": {
    "name": "ipython",
    "version": 3
   },
   "file_extension": ".py",
   "mimetype": "text/x-python",
   "name": "python",
   "nbconvert_exporter": "python",
   "pygments_lexer": "ipython3",
   "version": "3.9.7"
  }
 },
 "nbformat": 4,
 "nbformat_minor": 4
}
