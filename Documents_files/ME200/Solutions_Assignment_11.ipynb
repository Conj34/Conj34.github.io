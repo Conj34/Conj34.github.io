{
 "cells": [
  {
   "cell_type": "markdown",
   "metadata": {},
   "source": [
    "ME200, Johannes Ruf and Luitgard Veraart"
   ]
  },
  {
   "cell_type": "markdown",
   "metadata": {},
   "source": [
    "# Solutions to Assignment 11"
   ]
  },
  {
   "cell_type": "markdown",
   "metadata": {},
   "source": [
    "## Exercise 42: (Black-Scholes option pricing formula - European put option)\n",
    "\n",
    "Let $X \\sim \\textrm{N}(0, 1)$. Then, \n",
    "\n",
    "\\begin{align*}\n",
    "\\textrm{E}\\left[ e^{-rT} (K-S_T)^+ \\right] &= \n",
    "\\textrm{E}\\left[ e^{-rT}(K-S_0 \\exp \\left( (r - \\frac{\\sigma^2}{2})T + \\sigma \\sqrt{T} X \\right))^+\\right]\\\\\n",
    "&= \\int_{-\\infty}^{+\\infty} e^{-rT} (K - S_0 \\exp\\left( (r - \\frac{\\sigma^2}{2})T + \\sigma \\sqrt{T} x\\right))^+ \\frac{1}{\\sqrt{2 \\pi}} \\exp\\left(-\\frac{x^2}{2}\\right) dx=(*). \n",
    "\\end{align*}\n",
    "Now observe that \n",
    "\\begin{align*}\n",
    "K \\geq S_0 \\exp\\left(   (r - \\frac{\\sigma^2}{2})T + \\sigma \\sqrt{T} x\\right) \n",
    "\\Longleftrightarrow\n",
    "x \\leq - \\frac{\\log \\left(\\frac{S_0}{K} \\right) + \\left(r - \\frac{\\sigma^2}{2}\\right)T}{\\sigma \\sqrt{T}}=-(D_1 - \\sigma \\sqrt{T})=-D_1 + \\sigma \\sqrt{T}. \n",
    "\\end{align*}\n",
    "Hence, \n",
    "\\begin{align*}\n",
    "(*)&= \\int_{-\\infty}^{-D_1+ \\sigma \\sqrt{T}} e^{-rT} (K-S_0 \\exp\\left( (r - \\frac{\\sigma^2}{2})T + \\sigma \\sqrt{T} x\\right)) \\frac{1}{\\sqrt{2 \\pi}} \\exp\\left(-\\frac{x^2}{2}\\right) dx\\\\\n",
    "&=\n",
    "e^{-rT} K \\int_{-\\infty}^{-D_1+ \\sigma \\sqrt{T}}  \\frac{1}{\\sqrt{2 \\pi}} \\exp\\left(-\\frac{x^2}{2}\\right) dx - \n",
    "e^{-rT} S_0 \\int_{-\\infty}^{-D_1+ \\sigma \\sqrt{T}}  \\exp\\left( (r - \\frac{\\sigma^2}{2})T + \\sigma \\sqrt{T} x\\right) \\frac{1}{\\sqrt{2 \\pi}} \\exp\\left(-\\frac{x^2}{2}\\right) dx. \n",
    "\\end{align*}\n",
    "\n",
    "We now look at the two integrals separately. We start with the first one: \n",
    "\\begin{align*}\n",
    "\\int_{-\\infty}^{-D_1+ \\sigma \\sqrt{T}} \\frac{1}{\\sqrt{2 \\pi}} \\exp\\left(-\\frac{x^2}{2}\\right) dx\n",
    "=\\Phi(-D_1 + \\sigma \\sqrt{T}). \n",
    "\\end{align*}\n",
    "\n",
    "Next we evaluate the second integral:  \n",
    "\\begin{align*}\n",
    "&\\int_{-\\infty}^{-D_1+ \\sigma \\sqrt{T}}  \\exp\\left( (r - \\frac{\\sigma^2}{2})T + \\sigma \\sqrt{T} x\\right) \\frac{1}{\\sqrt{2 \\pi}} \\exp\\left(-\\frac{x^2}{2}\\right) dx\\\\\n",
    "&= \\exp\\left( (r - \\frac{\\sigma^2}{2})T \\right)\n",
    "\\int_{-\\infty}^{-D_1+ \\sigma \\sqrt{T}}  \\frac{1}{\\sqrt{2 \\pi}} \\exp\\left( -\\frac{1}{2} \\left( x^2 -2\\sigma \\sqrt{T} x + \\sigma^2 T - \\sigma^2 T \\right) \\right) dx\\\\\n",
    "&=\\exp\\left( (r - \\frac{\\sigma^2}{2})T  + \\frac{\\sigma^2T}{2}\\right)\n",
    "\\int_{-\\infty}^{-D_1+ \\sigma \\sqrt{T}} \\frac{1}{\\sqrt{2 \\pi}} \\exp\\left( -\\frac{1}{2} \\left( x -\\sigma \\sqrt{T}) \\right)^2 \\right)dx\\\\\n",
    "&=e^{rT} \\Phi(-D_1+\\sigma \\sqrt{T}-\\sigma \\sqrt{T})\\\\\n",
    "&=e^{rT} \\Phi(-D_1). \n",
    "\\end{align*}\n",
    "\n",
    "Combining these results, gives\n",
    "\\begin{align*}\n",
    "\\textrm{E}\\left[ e^{-rT} (K-S_T)^+ \\right]\n",
    "=  K e^{-rT} \\Phi(-D_1 +\\sigma \\sqrt{T}) - S_0 \\Phi(-D_1). \n",
    "\\end{align*}"
   ]
  },
  {
   "cell_type": "markdown",
   "metadata": {},
   "source": [
    "## Exercise 43: (Variance reduction techniques for option pricing)\n",
    "\n",
    "1. A Monte Carlo estimator for the European put option with maturity $T$ and strike $K$ is given by\n",
    "\n",
    "\\begin{align*}\n",
    "V^{\\textrm{MC}}_0(n) = \\frac{1}{n} \\sum_{i=1}^n e^{-rT} \\left(K - S_0 \\exp\\left( (r - \\frac{\\sigma^2}{2}) T + \\sigma \\sqrt{T} X_i \\right) \\right)^+, \n",
    "\\end{align*}\n",
    "where $X_1, \\ldots, X_n$ are i.i.d. from the $\\mathcal{N}(0, 1)$ distribution. \n",
    "\n",
    "2. Since for $X \\sim \\mathcal{N}(0, 1)$, $(X, -X)$ is an antithetic pair, an antithetic variates estimator for the time-0 price of a European put option is given by\n",
    "\\begin{align*}\n",
    "V^{\\textrm{MC}}_0(n) &= \\frac{1}{2n} \\sum_{i=1}^n e^{-rT} \\left(K - S_0 \\exp\\left( (r - \\frac{\\sigma^2}{2}) T + \\sigma \\sqrt{T} X_i \\right) \\right)^+\\\\\n",
    "& \\quad \n",
    "+\\frac{1}{2n} \\sum_{i=1}^n e^{-rT} \\left(K - S_0 \\exp\\left( (r - \\frac{\\sigma^2}{2}) T + \\sigma \\sqrt{T} (-X_i) \\right) \\right)^+\n",
    ", \n",
    "\\end{align*}\n",
    "where $X_1, \\ldots, X_n$ are i.i.d. from the $\\mathcal{N}(0, 1)$ distribution. \n",
    "\n",
    "\n",
    "3. Let $X_i$ be i.i.d. random variables from the standard normal distribution and let \n",
    "$S_i(T)=S_0 \\exp\\left( (r - \\frac{\\sigma^2}{2}) T + \\sigma \\sqrt{T} X_i \\right)$ and $Y_i = e^{-rT} (K - S_i)^+$. Then a control variate estimator for the time-0 price of a European put option is given by\n",
    "\\begin{align*}\n",
    "\\overline{Y}_n(b) = \\frac{1}{n} \\sum_{i=1}^n (Y_i - b(e^{-r T}S_i(T) - S(0))),  \n",
    "\\end{align*}\n",
    "where $b$ would often be chosen to be $\\hat{b}_n^*$ as defined in the lecture notes. \n",
    "\n",
    "\n",
    "We will implement the different estimators in Python next. "
   ]
  },
  {
   "cell_type": "code",
   "execution_count": 1,
   "metadata": {},
   "outputs": [],
   "source": [
    "import numpy as np\n",
    "import matplotlib.pyplot as plt\n",
    "from scipy.stats import norm\n",
    "\n",
    "rng = np.random.default_rng(2468)"
   ]
  },
  {
   "cell_type": "markdown",
   "metadata": {},
   "source": [
    "### Analytical formula and standard Monte Carlo estimator for the European put price\n",
    "\n",
    "First, we implement the analytical formula for the time-$0$ price of the European put in the Black-Scholes model and a classical Monte Carlo estimator. "
   ]
  },
  {
   "cell_type": "code",
   "execution_count": 2,
   "metadata": {},
   "outputs": [],
   "source": [
    "def black_scholes_put(S0, K, r, T, sigma):\n",
    "    d1 = (np.log(S0 / K) + (r + 0.5 * sigma**2) * T)/(sigma * np.sqrt(T))\n",
    "    d2 = d1 - sigma * np.sqrt(T)\n",
    "    tmp1 = S0 * norm.cdf(-d1, loc=0, scale=1)\n",
    "    tmp2 = K * np.exp(-r * T) * norm.cdf(-d2, loc=0, scale=1)\n",
    "    price = tmp2 - tmp1\n",
    "    return price\n",
    "\n",
    "def terminal_stockprice(rng, S0, T, r, sigma, samplesize):\n",
    "    mystandardnormalsample = rng.standard_normal(size=samplesize)\n",
    "    tmp1 = (r - 0.5*(sigma ** 2)) * T\n",
    "    tmp2 = sigma * np.sqrt(T) * mystandardnormalsample\n",
    "    stockprice = S0 * np.exp(tmp1 + tmp2)\n",
    "    return stockprice\n",
    "\n",
    "def bs_put_mc(rng, S0, K, T, r, sigma, samplesize, myepsilon):\n",
    "    # Generate terminal stock prices.\n",
    "    mystockprice = terminal_stockprice(rng, S0, T, r, sigma, samplesize)\n",
    "    # Compute payoffs.\n",
    "    payoffs = np.maximum(K - mystockprice, 0)\n",
    "    # Discount payoffs\n",
    "    discountedpayoffs = np.exp(- r * T)*payoffs\n",
    "    # Compute MC price\n",
    "    price = np.mean(discountedpayoffs)\n",
    "    # Compute confidence interval next\n",
    "    standarddev_rv = np.std(discountedpayoffs, ddof=1)\n",
    "    standarddev_mcest = standarddev_rv / np.sqrt(samplesize)\n",
    "    aepsilon = norm.ppf(1.0 - myepsilon * 0.5)\n",
    "    # Left boundary of CI\n",
    "    ci_left = price - aepsilon * standarddev_mcest\n",
    "    # Right boundary of CI\n",
    "    ci_right = price + aepsilon * standarddev_mcest\n",
    "    return price, standarddev_mcest, ci_left, ci_right"
   ]
  },
  {
   "cell_type": "code",
   "execution_count": 3,
   "metadata": {},
   "outputs": [],
   "source": [
    "# Defining some model parameters\n",
    "S0 = 50.0\n",
    "K = 50.0\n",
    "T = 0.25\n",
    "r = 0.05\n",
    "sigma = 0.3\n",
    "halfsamplesize = 100000\n",
    "samplesize = 2 * halfsamplesize\n",
    "myepsilon = 0.05"
   ]
  },
  {
   "cell_type": "code",
   "execution_count": 4,
   "metadata": {},
   "outputs": [
    {
     "name": "stdout",
     "output_type": "stream",
     "text": [
      "----------------\n",
      "The analytical option price of the put is 2.6704\n",
      "-----------------\n",
      "MC put price: 2.6776 and stdev of MC est: 0.0085\n",
      "CI based on MC is (\"2.6610, 2.6943)\n"
     ]
    }
   ],
   "source": [
    "print('----------------')\n",
    "print('The analytical option price of the put is {:.4f}'.format(black_scholes_put(S0, K, r, T, sigma)))\n",
    "print('-----------------')\n",
    "MCresults = bs_put_mc(rng, S0, K, T, r, sigma, samplesize, myepsilon)\n",
    "print('MC put price: {:.4f} and stdev of MC est: {:.4f}'.format(MCresults[0],MCresults[1]))\n",
    "print('CI based on MC is (\"{:.4f}, {:.4f})'.format(MCresults[2], MCresults[3]))\n"
   ]
  },
  {
   "cell_type": "markdown",
   "metadata": {},
   "source": [
    "### Antithetic variates estimator for the European put price\n",
    "\n",
    "Second, we implement an antithetic variates estimator for the time-$0$ price of the European put. "
   ]
  },
  {
   "cell_type": "code",
   "execution_count": 5,
   "metadata": {},
   "outputs": [
    {
     "name": "stdout",
     "output_type": "stream",
     "text": [
      "----------------\n",
      "AV price: 2.6594 and stdev of AV est: 0.0085\n",
      "CI based on AV is (2.6428, 2.6760)\n",
      "Note that sample covariance/(2n) is -0.00003536\n"
     ]
    }
   ],
   "source": [
    "def terminal_stockprice_av(rng, S0, T, r, sigma, halfsamplesize):\n",
    "    \"\"\"Function computes terminal stock prices based on antithetic pairs. \"\"\"\n",
    "    mynormals1 = rng.standard_normal(halfsamplesize)\n",
    "    mynormals2 = - mynormals1\n",
    "    tmp1 = (r - 0.5*sigma ** 2) * T\n",
    "    tmp2 = sigma * np.sqrt(T) * mynormals1\n",
    "    tmp3 = sigma * np.sqrt(T) * mynormals2\n",
    "    stockprice1 = S0 * np.exp(tmp1 + tmp2)\n",
    "    stockprice2 = S0 * np.exp(tmp1 + tmp3)\n",
    "    allstockprices = np.concatenate((stockprice1, stockprice2))\n",
    "    return stockprice1, stockprice2, allstockprices\n",
    "\n",
    "\n",
    "def bs_put_av(rng, S0, K, T, r, sigma, halfsamplesize, myepsilon):\n",
    "    \"\"\" Antithethic variate estimation for European call price in BS model.\"\"\"\n",
    "    # Note that 2*halfsamplesize random variables will be used in the AV estimator.\n",
    "    # Generate terminal stock prices.\n",
    "    mystockprices = terminal_stockprice_av(rng, S0, T, r, sigma, halfsamplesize)\n",
    "    # Compute payoffs.\n",
    "    payoffs1 = np.maximum(K - mystockprices[0], 0)\n",
    "    payoffs2 = np.maximum(K - mystockprices[1], 0)\n",
    "    # Discount payoffs\n",
    "    discpayoffs1 = np.exp(- r * T)*payoffs1\n",
    "    discpayoffs2 = np.exp(- r * T)*payoffs2\n",
    "    thecov = np.cov(discpayoffs1, discpayoffs2, ddof=1)[0, 1]\n",
    "    possiblereduction = thecov / (2 * halfsamplesize)\n",
    "    discpayoffs = np.concatenate((discpayoffs1, discpayoffs2))\n",
    "    price = np.mean(discpayoffs)\n",
    "    standarddev_rv = np.std(discpayoffs, ddof=1)\n",
    "    standarddev_avest = standarddev_rv / np.sqrt(2 * halfsamplesize)\n",
    "    aepsilon = norm.ppf(1.0 - myepsilon * 0.5)\n",
    "    ci_left = price - aepsilon * standarddev_avest\n",
    "    ci_right = price + aepsilon * standarddev_avest\n",
    "    return price, standarddev_avest, ci_left, ci_right, possiblereduction\n",
    "\n",
    "print('----------------')\n",
    "AVresults = bs_put_av(rng, S0, K, T, r, sigma, halfsamplesize, myepsilon)\n",
    "print('AV price: {:.4f} and stdev of AV est: {:.4f}'.format(AVresults[0], AVresults[1]))\n",
    "print('CI based on AV is ({:.4f}, {:.4f})'.format(AVresults[2], AVresults[3]))\n",
    "print('Note that sample covariance/(2n) is {:.8f}'.format(AVresults[4]))"
   ]
  },
  {
   "cell_type": "markdown",
   "metadata": {},
   "source": [
    "### Control variates estimator for the European put price \n",
    "\n",
    "Third, we implement a control variate estimator for the time-$0$ price of the European put in the Black-Scholes model. "
   ]
  },
  {
   "cell_type": "code",
   "execution_count": 6,
   "metadata": {},
   "outputs": [
    {
     "name": "stdout",
     "output_type": "stream",
     "text": [
      "----------------\n",
      "CV price: 2.6669 and stdev of CV est: 0.0050\n",
      "CI based on CV is (\"2.6572, 2.6766)\n",
      "Note that rhosquared is 0.6570\n"
     ]
    }
   ],
   "source": [
    "def bs_put_cv(rng, S0, K, T, r, sigma, samplesize, myepsilon):\n",
    "    \"\"\" Control variate estimation for European put price in BS model.\"\"\"\n",
    "    # Generate terminal stock prices.\n",
    "    mystockprice = terminal_stockprice(rng, S0, T, r, sigma, samplesize)\n",
    "    # Compute payoffs.\n",
    "    payoffs = np.maximum(K - mystockprice, 0)\n",
    "    # Discount payoffs\n",
    "    discountedpayoffs = np.exp(- r * T)*payoffs\n",
    "    # Use discounted stock as control\n",
    "    xs = np.exp(- r * T) * mystockprice\n",
    "    # Compute sample version of b*\n",
    "    bstar = np.cov(xs, discountedpayoffs, ddof=1)[0, 1] / np.var(xs, ddof=1)\n",
    "    # print(\"In cv bstar=\", bstar)\n",
    "    # Define z= Y(bstar)\n",
    "    z = discountedpayoffs - bstar * (xs - S0)\n",
    "    # Compute MC price\n",
    "    price = np.mean(z)\n",
    "    # Compute confidence interval next\n",
    "    standarddev_rv = np.std(z, ddof=1)\n",
    "    standarddev_cvest = standarddev_rv / np.sqrt(samplesize)\n",
    "    aepsilon = norm.ppf(1.0 - myepsilon * 0.5)\n",
    "    # Left boundary of CI\n",
    "    ci_left = price - aepsilon * standarddev_cvest\n",
    "    # Right boundary of CI\n",
    "    ci_right = price + aepsilon * standarddev_cvest\n",
    "    # Compute the sqared correation rhosquared\n",
    "    tmpcov = np.cov(xs, discountedpayoffs, ddof=1)[0, 1]\n",
    "    tmpvarx = np.var(xs, ddof=1)\n",
    "    tmpvary = np.var(discountedpayoffs, ddof=1)\n",
    "    rhosquared = (tmpcov ** 2) / (tmpvarx * tmpvary)\n",
    "    return price, standarddev_cvest, ci_left, ci_right, rhosquared\n",
    "\n",
    "print('----------------')\n",
    "CVresults = bs_put_cv(rng, S0, K, T, r, sigma, samplesize, myepsilon)\n",
    "print('CV price: {:.4f} and stdev of CV est: {:.4f}'.format(CVresults[0], CVresults[1]))\n",
    "print('CI based on CV is (\"{:.4f}, {:.4f})'.format(CVresults[2], CVresults[3]))\n",
    "print('Note that rhosquared is {:.4f}'.format(CVresults[4]))"
   ]
  },
  {
   "cell_type": "markdown",
   "metadata": {},
   "source": [
    "### Sensitivity of the variances of the estimators of the time-0 put option price with respect to the strike price"
   ]
  },
  {
   "cell_type": "code",
   "execution_count": 7,
   "metadata": {},
   "outputs": [
    {
     "data": {
      "image/png": "[encoded data removed]",
      "text/plain": [
       "<Figure size 432x288 with 2 Axes>"
      ]
     },
     "metadata": {
      "needs_background": "light"
     },
     "output_type": "display_data"
    }
   ],
   "source": [
    "# Next we compare the standarddeviation of the MC, AV and the CV estimator\n",
    "# Defining some model parameters\n",
    "S0 = 50.0\n",
    "sigma = 0.3\n",
    "T = 1.0\n",
    "r = 0.05\n",
    "sigma = 0.3\n",
    "halfsamplesize = 10000 \n",
    "samplesize = 2 * halfsamplesize\n",
    "myepsilon = 0.05\n",
    "\n",
    "numberofK = 100\n",
    "Ks = np.linspace(start=1, stop=120, num=numberofK)\n",
    "\n",
    "stdMC = np.zeros(numberofK)\n",
    "stdCV = np.zeros(numberofK)\n",
    "stdAV = np.zeros(numberofK)\n",
    "analyticalprice = np.zeros(numberofK)\n",
    "\n",
    "# Generate the terminal stock prices\n",
    "mystockprice = terminal_stockprice(rng, S0, T, r, sigma, samplesize)\n",
    "myavstockprices = terminal_stockprice_av(rng, S0, T, r, sigma, halfsamplesize)\n",
    "myavstockprice = myavstockprices[2]  \n",
    "\n",
    "for i in range(numberofK):\n",
    "    K = Ks[i]\n",
    "    # Compute discounted payoffs\n",
    "    discountedpayoffs = np.exp(- r * T) * np.maximum(K-mystockprice, 0)\n",
    "    # Compute standard dev of MC estimator \n",
    "    stdMC[i] = np.std(discountedpayoffs, ddof=1) / np.sqrt(samplesize)\n",
    "\n",
    "    # Use discounted stock as control\n",
    "    xs = np.exp(- r * T) * mystockprice\n",
    "    # Compute sample version of b*\n",
    "    bstar = np.cov(xs, discountedpayoffs, ddof=1)[0, 1] / np.var(xs, ddof=1)\n",
    "    # Define z= Y(bstar)\n",
    "    z = discountedpayoffs - bstar * (xs - S0)\n",
    "    # Compute standard dev of CV estimator \n",
    "    stdCV[i] = np.std(z, ddof=1) / np.sqrt(samplesize)\n",
    "       \n",
    "    #AV: \n",
    "    mystockprice = myavstockprice\n",
    "    discountedpayoffs = np.exp(- r * T) *  np.maximum(K-mystockprice, 0)\n",
    "    # Compute standard dev of AV estimator \n",
    "    stdAV[i] = np.std(discountedpayoffs, ddof=1) / np.sqrt(samplesize)\n",
    "    \n",
    "    # Compute the analytical put price for different strikes as well\n",
    "    analyticalprice[i] = black_scholes_put(S0, K, r, T, sigma)\n",
    "    \n",
    "\n",
    "fig, (ax1, ax2) = plt.subplots(nrows=1, ncols=2)\n",
    "ax1.plot(Ks, stdMC, lw=3, c=\"blue\", label=\"Std of MC estimator\")\n",
    "ax1.plot(Ks, stdCV, lw=3, c=\"red\", label=\"Std of CV estimator\", linestyle = \"dashed\")\n",
    "ax1.plot(Ks, stdAV, lw=3, c=\"green\", label=\"Std of AV estimator\", linestyle = \"dashed\")\n",
    "ax1.set_ylabel(\"Standard deviation\")\n",
    "ax1.set_xlabel(r\"$K$\")\n",
    "ax1.set_title(\"Comparison of standard deviations\")\n",
    "ax1.legend(loc = \"best\")\n",
    "\n",
    "ax2.plot(Ks, analyticalprice, lw=3, c=\"blue\", label=\"analytical put price\")\n",
    "ax2.set_ylabel(\"Put price\")\n",
    "ax2.set_xlabel(r\"$K$\")\n",
    "ax2.set_title(\"Time - 0 put price\")\n",
    "ax2.legend(loc = \"best\")\n",
    "plt.show()"
   ]
  },
  {
   "cell_type": "code",
   "execution_count": null,
   "metadata": {},
   "outputs": [],
   "source": []
  },
  {
   "cell_type": "code",
   "execution_count": null,
   "metadata": {},
   "outputs": [],
   "source": []
  }
 ],
 "metadata": {
  "anaconda-cloud": {},
  "kernelspec": {
   "display_name": "Python 3 (ipykernel)",
   "language": "python",
   "name": "python3"
  },
  "language_info": {
   "codemirror_mode": {
    "name": "ipython",
    "version": 3
   },
   "file_extension": ".py",
   "mimetype": "text/x-python",
   "name": "python",
   "nbconvert_exporter": "python",
   "pygments_lexer": "ipython3",
   "version": "3.9.7"
  }
 },
 "nbformat": 4,
 "nbformat_minor": 1
}
