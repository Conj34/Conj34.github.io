{
 "cells": [
  {
   "cell_type": "markdown",
   "metadata": {},
   "source": [
    "ME200, Johannes Ruf and Luitgard Veraart"
   ]
  },
  {
   "cell_type": "markdown",
   "metadata": {},
   "source": [
    "# Solutions to Assignment 5"
   ]
  },
  {
   "cell_type": "markdown",
   "metadata": {},
   "source": [
    "## Exercise 23"
   ]
  },
  {
   "cell_type": "markdown",
   "metadata": {},
   "source": [
    "We would like to sample from a target distribution which has corresponding probability density $f$. Suppose there is a density $g$ from which we know how to generate samples from and for which \n",
    "\n",
    "$$\n",
    "f(x) \\leq c g(x)  \\quad \\textrm{ for all } x \\in  R, \n",
    "$$\n",
    "\n",
    "for a constant $c$. \n",
    "\n",
    "Then, the *Von Neumann's acceptance-rejection algorithm* is given by \n",
    "* Generate $X$ from the density $g$. \n",
    "* Generate $U \\sim {\\rm Unif}(0, 1)$.\n",
    "* If  $ U \\leq \\frac{f(X)}{cg(X)}$, then accept $X$ and return it. Otherwise, go back to step 1."
   ]
  },
  {
   "cell_type": "markdown",
   "metadata": {},
   "source": [
    "## Exercise 24"
   ]
  },
  {
   "cell_type": "markdown",
   "metadata": {},
   "source": [
    "If $X$ is a standard normally distributed random variable then $Y = \\sigma * X + \\mu$ is $\\mathcal{N}(\\mu, \\sigma^2)$-distribued."
   ]
  },
  {
   "cell_type": "markdown",
   "metadata": {},
   "source": [
    "## Exercise 25"
   ]
  },
  {
   "cell_type": "markdown",
   "metadata": {},
   "source": [
    "Recall from the lecture notes that we reject a sample if\n",
    "\n",
    "$$\n",
    "U > e^{-\\frac{(|X|-1)^2}{2}} ,\n",
    "$$\n",
    "\n",
    "where $U$ is uniformly distributed and $X$ is doubly exponentially distributed."
   ]
  },
  {
   "cell_type": "markdown",
   "metadata": {},
   "source": [
    "Let's first simulate doubly exponential samples as in Exercise 12, but now with a seeded random number generator:"
   ]
  },
  {
   "cell_type": "code",
   "execution_count": 15,
   "metadata": {},
   "outputs": [],
   "source": [
    "import numpy as np"
   ]
  },
  {
   "cell_type": "code",
   "execution_count": 16,
   "metadata": {},
   "outputs": [],
   "source": [
    "rng = np.random.default_rng(seed=998877)"
   ]
  },
  {
   "cell_type": "code",
   "execution_count": 17,
   "metadata": {},
   "outputs": [],
   "source": [
    "sample_size = 100_000"
   ]
  },
  {
   "cell_type": "code",
   "execution_count": 18,
   "metadata": {},
   "outputs": [],
   "source": [
    "normal_samples = []\n",
    "for _ in range(sample_size):\n",
    "    u = rng.random()\n",
    "    \n",
    "    y = rng.exponential()   \n",
    "    du = rng.choice([-1, 1])\n",
    "    cand = du * y\n",
    "    \n",
    "    while u > np.exp(-(abs(cand) - 1)**2 / 2):\n",
    "        u = rng.random()\n",
    "\n",
    "        y = rng.exponential()   \n",
    "        du = rng.choice([-1, 1])\n",
    "        cand = du * y\n",
    "    normal_samples.append(cand)"
   ]
  },
  {
   "cell_type": "code",
   "execution_count": 19,
   "metadata": {},
   "outputs": [],
   "source": [
    "import matplotlib.pyplot as plt"
   ]
  },
  {
   "cell_type": "code",
   "execution_count": 20,
   "metadata": {},
   "outputs": [
    {
     "data": {
      "image/png": "[encoded data removed]",
      "text/plain": [
       "<Figure size 432x288 with 1 Axes>"
      ]
     },
     "metadata": {
      "needs_background": "light"
     },
     "output_type": "display_data"
    }
   ],
   "source": [
    "fig, ax = plt.subplots()\n",
    "ax.hist(normal_samples, bins=100);\n",
    "ax.set_title('Histogram of normally distributed r.v.s (via acceptance-rejection)');"
   ]
  },
  {
   "cell_type": "markdown",
   "metadata": {},
   "source": [
    "## Exercise 26: Fibonacci, part II"
   ]
  },
  {
   "cell_type": "code",
   "execution_count": 21,
   "metadata": {},
   "outputs": [],
   "source": [
    "import numpy as np"
   ]
  },
  {
   "cell_type": "code",
   "execution_count": 22,
   "metadata": {},
   "outputs": [],
   "source": [
    "def fib2(k):\n",
    "    numbers = np.array([1, 1])\n",
    "    \n",
    "    while numbers[-2] + numbers[-1] <= k:\n",
    "        numbers = np.append(numbers, numbers[-1] + numbers[-2])\n",
    "    return numbers"
   ]
  },
  {
   "cell_type": "code",
   "execution_count": 23,
   "metadata": {},
   "outputs": [
    {
     "data": {
      "text/plain": [
       "array([  1,   1,   2,   3,   5,   8,  13,  21,  34,  55,  89, 144, 233,\n",
       "       377, 610, 987])"
      ]
     },
     "execution_count": 23,
     "metadata": {},
     "output_type": "execute_result"
    }
   ],
   "source": [
    "fib2(1000)"
   ]
  },
  {
   "cell_type": "markdown",
   "metadata": {},
   "source": [
    "## Exercise 27: Box-Muller"
   ]
  },
  {
   "cell_type": "code",
   "execution_count": 24,
   "metadata": {},
   "outputs": [],
   "source": [
    "import numpy as np"
   ]
  },
  {
   "cell_type": "code",
   "execution_count": 25,
   "metadata": {},
   "outputs": [],
   "source": [
    "sample_size = 100_000"
   ]
  },
  {
   "cell_type": "code",
   "execution_count": 26,
   "metadata": {},
   "outputs": [],
   "source": [
    "rng = np.random.default_rng(seed=12345)\n",
    "u1 = rng.random(size=sample_size // 2)\n",
    "u2 = rng.random(size=sample_size // 2)\n",
    "\n",
    "r = - 2 * np.log(u1)    # exponentially distributed \n",
    "θ = 2 * np.pi * u2\n",
    "\n",
    "x1 = np.sqrt(r) * np.cos(θ)\n",
    "x2 = np.sqrt(r) * np.sin(θ)\n",
    "\n",
    "samples = np.concatenate((x1, x2))"
   ]
  },
  {
   "cell_type": "code",
   "execution_count": 27,
   "metadata": {},
   "outputs": [],
   "source": [
    "import matplotlib.pyplot as plt"
   ]
  },
  {
   "cell_type": "code",
   "execution_count": 28,
   "metadata": {},
   "outputs": [
    {
     "data": {
      "image/png": "[encoded data removed]",
      "text/plain": [
       "<Figure size 432x288 with 1 Axes>"
      ]
     },
     "metadata": {
      "needs_background": "light"
     },
     "output_type": "display_data"
    }
   ],
   "source": [
    "fig, ax = plt.subplots()\n",
    "ax.hist(samples, bins=100);\n",
    "ax.set_title('Histogram of normally distributed r.v.s (via Box-Muller)');"
   ]
  },
  {
   "cell_type": "code",
   "execution_count": null,
   "metadata": {},
   "outputs": [],
   "source": []
  }
 ],
 "metadata": {
  "anaconda-cloud": {},
  "kernelspec": {
   "display_name": "Python 3 (ipykernel)",
   "language": "python",
   "name": "python3"
  },
  "language_info": {
   "codemirror_mode": {
    "name": "ipython",
    "version": 3
   },
   "file_extension": ".py",
   "mimetype": "text/x-python",
   "name": "python",
   "nbconvert_exporter": "python",
   "pygments_lexer": "ipython3",
   "version": "3.9.7"
  }
 },
 "nbformat": 4,
 "nbformat_minor": 4
}
