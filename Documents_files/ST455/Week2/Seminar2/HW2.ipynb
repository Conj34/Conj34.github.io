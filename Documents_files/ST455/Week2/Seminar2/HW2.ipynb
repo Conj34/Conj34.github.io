{
 "cells": [
  {
   "cell_type": "markdown",
   "id": "professional-priority",
   "metadata": {},
   "source": [
    "## HW2\n",
    "\n",
    "Consider a $k$th-order Markov decision process model that satisfies the $k$th-order Markov assumption and the time-homogeneity assumption, for some integer $k\\ge 1$. Specifically, the $k$th-order Markov assumption requires the conditional distribution of $(S_{t+k},R_{t+k-1})$ to be conditionally independent of the data history given $(A_{t+k-1},S_{t+k-1})$ and observations collected between time $t$ and $t+k-2$. When $k=1$, it is reduced to the standard Markov assumption. The time homogeneity requires this conditional distribution to be stationary over time. Please discuss the form of the optimal policy under this model and justify your answer."
   ]
  },
  {
   "cell_type": "markdown",
   "id": "f7cc3389",
   "metadata": {},
   "source": [
    "## your answer here"
   ]
  }
 ],
 "metadata": {
  "kernelspec": {
   "display_name": "Python 3 (ipykernel)",
   "language": "python",
   "name": "python3"
  },
  "language_info": {
   "codemirror_mode": {
    "name": "ipython",
    "version": 3
   },
   "file_extension": ".py",
   "mimetype": "text/x-python",
   "name": "python",
   "nbconvert_exporter": "python",
   "pygments_lexer": "ipython3",
   "version": "3.9.7"
  }
 },
 "nbformat": 4,
 "nbformat_minor": 5
}
