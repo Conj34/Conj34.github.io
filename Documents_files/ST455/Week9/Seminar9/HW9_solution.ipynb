{
 "cells": [
  {
   "cell_type": "markdown",
   "id": "interior-madness",
   "metadata": {},
   "source": [
    "## HW9 Solution"
   ]
  },
  {
   "cell_type": "markdown",
   "id": "f9f282c4",
   "metadata": {},
   "source": [
    "In this homework assignment, you will need to implement the Dyna-Q and Dyna-Q$^+$ algorithms in the Blocking Maze example (Page 34 of Lecture 9) and the Shortcut Maze example (Page 33 of Lecture 9).\n",
    "\n",
    "* In the Blocking Maze example, obstacles will change after 1000 steps. You may set the step size $\\alpha$ to 0.1, the number of planning steps $n$ to 10, and the weight of bonus reward $\\kappa$ (Page 32 of Lecture 9) to $10^{-4}$. Please plot the cumulative rewards of Dyna-Q and Dyna-Q$^{+}$, up to 3000 time steps, aggregated over 20 independent runs (see e.g., Page 34 in Lecture 9). That is, you run 20 independent trials. For each trial, you run Dyna-Q and Dyan-Q$^+$ 3000 times steps, and average the cumulative reward over 20 trials.\n",
    "* In the Shortcut Maze example, obstacles will switch after 3000 steps. You may set the step size $\\alpha$ to 0.1, the number of planning steps $n$ to 50, and the weight of bonus reward $\\kappa$ (Page 32 of Lecture 9) to $10^{-3}$. Please plot the cumulative rewards of Dyna-Q and Dyna-Q$^+$, up to 6000 time steps, aggregated over 5 independent runs (see e.g., Page 33 in Lecture 9)."
   ]
  },
  {
   "cell_type": "code",
   "execution_count": 2,
   "id": "official-season",
   "metadata": {},
   "outputs": [],
   "source": [
    "#######################################################################\n",
    "# Copyright (C)                                                       #\n",
    "# 2016-2018 Shangtong Zhang(zhangshangtong.cpp@gmail.com)             #\n",
    "# 2016 Kenta Shimada(hyperkentakun@gmail.com)                         #\n",
    "# Permission given to modify the code as long as you keep this        #\n",
    "# declaration at the top                                              #\n",
    "#######################################################################\n",
    "\n",
    "import numpy as np\n",
    "import matplotlib.pyplot as plt\n",
    "from tqdm import tqdm\n",
    "import heapq\n",
    "from copy import deepcopy"
   ]
  },
  {
   "cell_type": "markdown",
   "id": "chinese-comfort",
   "metadata": {},
   "source": [
    "The following code implements the standard maze and the Dyna-Q algorithm we discussed in the last seminar\n",
    "\n",
    "<img src=\"graphs/maze.png\" width=400>\n",
    "\n",
    "The aim is to find a shortest path from S to G. Movements are allowed left, right, top and down but not on the greyed out obstacles."
   ]
  },
  {
   "cell_type": "code",
   "execution_count": 3,
   "id": "daily-spiritual",
   "metadata": {},
   "outputs": [],
   "source": [
    "class Maze:\n",
    "    def __init__(self):\n",
    "        # maze width\n",
    "        self.WORLD_WIDTH = 9\n",
    "\n",
    "        # maze height\n",
    "        self.WORLD_HEIGHT = 6\n",
    "\n",
    "        # all possible actions\n",
    "        self.ACTION_UP = 0\n",
    "        self.ACTION_DOWN = 1\n",
    "        self.ACTION_LEFT = 2\n",
    "        self.ACTION_RIGHT = 3\n",
    "        self.actions = [self.ACTION_UP, self.ACTION_DOWN, self.ACTION_LEFT, self.ACTION_RIGHT]\n",
    "\n",
    "        # start state\n",
    "        self.START_STATE = [2, 0]\n",
    "\n",
    "        # goal state\n",
    "        self.GOAL_STATES = [[0, 8]]\n",
    "\n",
    "        # all obstacles\n",
    "        self.obstacles = [[1, 2], [2, 2], [3, 2], [0, 7], [1, 7], [2, 7], [4, 5]]\n",
    "        self.old_obstacles = None\n",
    "        self.new_obstacles = None\n",
    "\n",
    "        # time to change obstacles\n",
    "        self.obstacle_switch_time = None\n",
    "\n",
    "        # initial state action pair values\n",
    "        # self.stateActionValues = np.zeros((self.WORLD_HEIGHT, self.WORLD_WIDTH, len(self.actions)))\n",
    "\n",
    "        # the size of q value\n",
    "        self.q_size = (self.WORLD_HEIGHT, self.WORLD_WIDTH, len(self.actions))\n",
    "\n",
    "        # max steps\n",
    "        self.max_steps = float('inf')\n",
    "\n",
    "    # take @action in @state\n",
    "    # @return: [new state, reward]\n",
    "    def step(self, state, action):\n",
    "        x, y = state\n",
    "        if action == self.ACTION_UP:\n",
    "            x = max(x - 1, 0)\n",
    "        elif action == self.ACTION_DOWN:\n",
    "            x = min(x + 1, self.WORLD_HEIGHT - 1)\n",
    "        elif action == self.ACTION_LEFT:\n",
    "            y = max(y - 1, 0)\n",
    "        elif action == self.ACTION_RIGHT:\n",
    "            y = min(y + 1, self.WORLD_WIDTH - 1)\n",
    "        if [x, y] in self.obstacles:\n",
    "            x, y = state\n",
    "        if [x, y] in self.GOAL_STATES:\n",
    "            reward = 1.0\n",
    "        else:\n",
    "            reward = 0.0\n",
    "        return [x, y], reward"
   ]
  },
  {
   "cell_type": "code",
   "execution_count": 4,
   "id": "shaped-graduate",
   "metadata": {},
   "outputs": [],
   "source": [
    "# a wrapper class for parameters of dyna algorithms\n",
    "class DynaParams:\n",
    "    def __init__(self):\n",
    "        # discount\n",
    "        self.gamma = 0.95\n",
    "\n",
    "        # probability for exploration\n",
    "        self.epsilon = 0.1\n",
    "\n",
    "        # step size\n",
    "        self.alpha = 0.1\n",
    "\n",
    "        # weight for elapsed time\n",
    "        self.time_weight = 0\n",
    "\n",
    "        # n-step planning\n",
    "        self.planning_steps = 5\n",
    "\n",
    "        # average over several independent runs\n",
    "        self.runs = 10\n",
    "\n",
    "        # threshold for priority queue\n",
    "        self.theta = 0\n",
    "\n",
    "\n",
    "# choose an action based on epsilon-greedy algorithm\n",
    "def choose_action(method, state, q_value, tau_value, maze, dyna_params):\n",
    "    if np.random.binomial(1, dyna_params.epsilon) == 1:\n",
    "        return np.random.choice(maze.actions)\n",
    "    else:\n",
    "        if method == 'Dyna-Q':\n",
    "            values = q_value[state[0], state[1], :]\n",
    "        else:\n",
    "            values = q_value[state[0], state[1], :] + dyna_params.time_weight*np.sqrt(tau_value[state[0], state[1], :])\n",
    "        return np.random.choice([action for action, value in enumerate(values) if value == np.max(values)])\n",
    "\n",
    "# Trivial model for planning in Dyna-Q\n",
    "class TrivialModel:\n",
    "    # @rand: an instance of np.random.RandomState for sampling\n",
    "    def __init__(self, rand=np.random):\n",
    "        self.model = dict()\n",
    "        self.rand = rand\n",
    "\n",
    "    # feed the model with previous experience\n",
    "    def feed(self, state, action, next_state, reward):\n",
    "        state = deepcopy(state)\n",
    "        next_state = deepcopy(next_state)\n",
    "        if tuple(state) not in self.model.keys():\n",
    "            self.model[tuple(state)] = dict()\n",
    "        self.model[tuple(state)][action] = [list(next_state), reward]\n",
    "\n",
    "    # randomly sample from previous experience\n",
    "    def sample(self):\n",
    "        state_index = self.rand.choice(range(len(self.model.keys())))\n",
    "        state = list(self.model)[state_index]\n",
    "        action_index = self.rand.choice(range(len(self.model[state].keys())))\n",
    "        action = list(self.model[state])[action_index]\n",
    "        next_state, reward = self.model[state][action]\n",
    "        state = deepcopy(state)\n",
    "        next_state = deepcopy(next_state)\n",
    "        return list(state), action, list(next_state), reward"
   ]
  },
  {
   "cell_type": "code",
   "execution_count": 5,
   "id": "acquired-longer",
   "metadata": {},
   "outputs": [],
   "source": [
    "# play for an episode for Dyna-Q algorithm\n",
    "# @method: Dyna-Q or Dyna-Q+\n",
    "# @q_value: state action pair values, will be updated\n",
    "# @model: model instance for planning\n",
    "# @maze: a maze instance containing all information about the environment\n",
    "# @dyna_params: several params for the algorithm\n",
    "def dyna_q(method, q_value, tau_value, model, maze, dyna_params):\n",
    "    state = maze.START_STATE\n",
    "    steps = 0\n",
    "    while state not in maze.GOAL_STATES:\n",
    "        # track the steps\n",
    "        steps += 1\n",
    "\n",
    "        # get action\n",
    "        action = choose_action(method, state, q_value, tau_value, maze, dyna_params)\n",
    "\n",
    "        # take action\n",
    "        next_state, reward = maze.step(state, action)\n",
    "        \n",
    "        # tau-value update\n",
    "        tau_value = tau_value + 1\n",
    "        tau_value[state[0], state[1], action] = 0\n",
    "\n",
    "        # Q-Learning update\n",
    "        q_value[state[0], state[1], action] += \\\n",
    "            dyna_params.alpha * (reward + dyna_params.gamma * np.max(q_value[next_state[0], next_state[1], :]) -\n",
    "                                 q_value[state[0], state[1], action])\n",
    "\n",
    "        # feed the model with experience\n",
    "        model.feed(state, action, next_state, reward)\n",
    "\n",
    "        # sample experience from the model\n",
    "        for t in range(0, dyna_params.planning_steps):\n",
    "            state_, action_, next_state_, reward_ = model.sample()\n",
    "            q_value[state_[0], state_[1], action_] += \\\n",
    "                dyna_params.alpha * (reward_ + dyna_params.gamma * np.max(q_value[next_state_[0], next_state_[1], :]) -\n",
    "                                     q_value[state_[0], state_[1], action_])\n",
    "\n",
    "        state = next_state\n",
    "\n",
    "        # check whether it has exceeded the step limit\n",
    "        if steps > maze.max_steps:\n",
    "            break\n",
    "\n",
    "    return steps\n"
   ]
  },
  {
   "cell_type": "markdown",
   "id": "e394a3a2",
   "metadata": {},
   "source": [
    "Next, let us consider the blocking maze example"
   ]
  },
  {
   "cell_type": "markdown",
   "id": "arabic-respect",
   "metadata": {},
   "source": [
    "### Blocking Maze\n",
    "\n",
    "In the Blocking Maze environment the enrivonment changes after a number of iterations. This is a natural assumption as in many real world scenarios the environment does change with time, also measuring states can often not be done without an error, which can be related to changing environments.\n",
    "\n",
    "Here, the model finds an optimal policy only for one of the tiles in the optimal policy to be blocked after the environment changes. Further exploration is needed to find the new optimal policy. While the Q-values of the optimal policy slowly decay, it is desirable to find the optimal policy faster.\n",
    "\n",
    "This is exactly the benefit of Dyna-Q+, which favors exploration in the following way. When updating the Q-values based on previous experiences, a bonus is given to actions that haven't been used in many timesteps. The reward $r$ of an actions is increased by $\\kappa \\sqrt{\\tau}$ where $\\kappa$ is a small constant and $\\tau$ the time that passed since the action in the current state was taken the last time.\n",
    "\n",
    "<img src=\"graphs/blocking_maze.png\">\n",
    "\n"
   ]
  },
  {
   "cell_type": "code",
   "execution_count": 6,
   "id": "breathing-october",
   "metadata": {},
   "outputs": [],
   "source": [
    "# wrapper function for changing maze\n",
    "# @maze: a maze instance\n",
    "# @dynaParams: several parameters for dyna algorithms\n",
    "\n",
    "methods = ['Dyna-Q', 'Dyna-Q+']\n",
    "\n",
    "def changing_maze(maze, dyna_params):\n",
    "    \n",
    "    # set up max steps\n",
    "    max_steps = maze.max_steps\n",
    "\n",
    "    # track the cumulative rewards\n",
    "    rewards = np.zeros((dyna_params.runs, 2, max_steps))\n",
    "\n",
    "    for run in tqdm(range(dyna_params.runs)):\n",
    "        # set up models\n",
    "        model = TrivialModel() #, TimeModel(maze, time_weight=dyna_params.time_weight)]\n",
    "\n",
    "        # initialize state action values\n",
    "        q_values = [np.zeros(maze.q_size), np.zeros(maze.q_size)]\n",
    "        # intialize tau values\n",
    "        tau_values = np.zeros(maze.q_size)\n",
    "\n",
    "        for i in range(len(methods)):\n",
    "\n",
    "            # set old obstacles for the maze\n",
    "            maze.obstacles = maze.old_obstacles\n",
    "\n",
    "            steps = 0\n",
    "            last_steps = steps\n",
    "            while steps < max_steps:\n",
    "                # play for an episode\n",
    "                steps += dyna_q(methods[i], q_values[i], tau_values, model, maze, dyna_params)\n",
    "\n",
    "                # update cumulative rewards\n",
    "                rewards[run, i, last_steps: steps] = rewards[run, i, last_steps]\n",
    "                rewards[run, i, min(steps, max_steps - 1)] = rewards[run, i, last_steps] + 1\n",
    "                last_steps = steps\n",
    "\n",
    "                if steps > maze.obstacle_switch_time:\n",
    "                    # change the obstacles\n",
    "                    maze.obstacles = maze.new_obstacles\n",
    "\n",
    "    # averaging over runs\n",
    "    rewards = rewards.mean(axis=0)\n",
    "\n",
    "    return rewards\n"
   ]
  },
  {
   "cell_type": "code",
   "execution_count": 7,
   "id": "transparent-president",
   "metadata": {
    "scrolled": true
   },
   "outputs": [
    {
     "name": "stderr",
     "output_type": "stream",
     "text": [
      "100%|███████████████████████████████████████████| 20/20 [00:48<00:00,  2.43s/it]\n"
     ]
    },
    {
     "data": {
      "image/png": "[encoded data removed]",
      "text/plain": [
       "<Figure size 800x600 with 1 Axes>"
      ]
     },
     "metadata": {
      "needs_background": "light"
     },
     "output_type": "display_data"
    }
   ],
   "source": [
    "# set up a blocking maze instance\n",
    "blocking_maze = Maze()\n",
    "blocking_maze.START_STATE = [5, 3]\n",
    "blocking_maze.GOAL_STATES = [[0, 8]]\n",
    "blocking_maze.old_obstacles = [[3, i] for i in range(0, 8)]\n",
    "\n",
    "# new obstalces will block the optimal path\n",
    "blocking_maze.new_obstacles = [[3, i] for i in range(1, 9)]\n",
    "\n",
    "# step limit\n",
    "blocking_maze.max_steps = 3000\n",
    "\n",
    "# obstacles will change after 1000 steps\n",
    "# the exact step for changing will be different\n",
    "# However given that 1000 steps is long enough for both algorithms to converge,\n",
    "# the difference is guaranteed to be very small\n",
    "blocking_maze.obstacle_switch_time = 1000\n",
    "\n",
    "# set up parameters\n",
    "dyna_params = DynaParams()\n",
    "dyna_params.alpha = 1.0\n",
    "dyna_params.planning_steps = 10\n",
    "dyna_params.runs = 20\n",
    "\n",
    "# kappa must be small, as the reward for getting the goal is only 1\n",
    "dyna_params.time_weight = 1e-4\n",
    "\n",
    "# play\n",
    "rewards = changing_maze(blocking_maze, dyna_params)\n",
    "\n",
    "plt.figure(figsize=(8, 6), dpi=100)\n",
    "\n",
    "for i in range(len(methods)):\n",
    "    plt.plot(rewards[i, :], label=methods[i])\n",
    "    \n",
    "plt.xlabel('time steps')\n",
    "plt.ylabel('cumulative reward')\n",
    "plt.legend()\n",
    "plt.show()"
   ]
  },
  {
   "cell_type": "markdown",
   "id": "circular-precipitation",
   "metadata": {},
   "source": [
    "### Shortcut Maze\n",
    "\n",
    "In the Shortcut Maze we are in the opposite scenario to the Blocking Maze. After the environment changes a new shorter solutions does exist. The previously optimal policy is still valid and has the same reward as before, but is not optimal anymore.\n",
    "\n",
    "Again, continued exploration is needed to find the new optimal policy.\n",
    "\n",
    "<img src=\"graphs/shortcut_maze.png\">"
   ]
  },
  {
   "cell_type": "code",
   "execution_count": 8,
   "id": "settled-eleven",
   "metadata": {},
   "outputs": [
    {
     "name": "stderr",
     "output_type": "stream",
     "text": [
      "100%|█████████████████████████████████████████████| 5/5 [01:36<00:00, 19.31s/it]\n"
     ]
    },
    {
     "data": {
      "text/plain": [
       "<matplotlib.legend.Legend at 0x7fbec2dd3190>"
      ]
     },
     "execution_count": 8,
     "metadata": {},
     "output_type": "execute_result"
    },
    {
     "data": {
      "image/png": "[encoded data removed]",
      "text/plain": [
       "<Figure size 800x600 with 1 Axes>"
      ]
     },
     "metadata": {
      "needs_background": "light"
     },
     "output_type": "display_data"
    }
   ],
   "source": [
    "# set up a shortcut maze instance\n",
    "shortcut_maze = Maze()\n",
    "shortcut_maze.START_STATE = [5, 3]\n",
    "shortcut_maze.GOAL_STATES = [[0, 8]]\n",
    "shortcut_maze.old_obstacles = [[3, i] for i in range(1, 9)]\n",
    "\n",
    "# new obstacles will have a shorter path\n",
    "shortcut_maze.new_obstacles = [[3, i] for i in range(1, 8)]\n",
    "\n",
    "# step limit\n",
    "shortcut_maze.max_steps = 6000\n",
    "\n",
    "# obstacles will change after 3000 steps\n",
    "# the exact step for changing will be different\n",
    "# However given that 3000 steps is long enough for both algorithms to converge,\n",
    "# the difference is guaranteed to be very small\n",
    "shortcut_maze.obstacle_switch_time = 3000\n",
    "\n",
    "# set up parameters\n",
    "dyna_params = DynaParams()\n",
    "\n",
    "# 50-step planning\n",
    "dyna_params.planning_steps = 50\n",
    "dyna_params.runs = 5\n",
    "dyna_params.time_weight = 1e-3\n",
    "dyna_params.alpha = 1.0\n",
    "\n",
    "# play\n",
    "rewards = changing_maze(shortcut_maze, dyna_params)\n",
    "\n",
    "plt.figure(figsize=(8, 6), dpi=100)\n",
    "\n",
    "for i in range(len(methods)):\n",
    "    plt.plot( rewards[i, :], label=methods[i])\n",
    "plt.xlabel('time steps')\n",
    "plt.ylabel('cumulative reward')\n",
    "plt.legend()"
   ]
  },
  {
   "cell_type": "code",
   "execution_count": null,
   "id": "bfa17227",
   "metadata": {},
   "outputs": [],
   "source": []
  }
 ],
 "metadata": {
  "kernelspec": {
   "display_name": "Python 3 (ipykernel)",
   "language": "python",
   "name": "python3"
  },
  "language_info": {
   "codemirror_mode": {
    "name": "ipython",
    "version": 3
   },
   "file_extension": ".py",
   "mimetype": "text/x-python",
   "name": "python",
   "nbconvert_exporter": "python",
   "pygments_lexer": "ipython3",
   "version": "3.9.7"
  }
 },
 "nbformat": 4,
 "nbformat_minor": 5
}
