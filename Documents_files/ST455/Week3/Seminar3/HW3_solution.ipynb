{
 "cells": [
  {
   "cell_type": "markdown",
   "id": "b52e7021",
   "metadata": {},
   "source": [
    "### Implement the MC control algorithm with exploring starts in the Blackjack example and visualise the resulting optimal policy"
   ]
  },
  {
   "cell_type": "markdown",
   "id": "d6ccf94c",
   "metadata": {},
   "source": [
    "1. You may want to consider the following initial policy: stick if the sum of player's cards >= 18 (action = 0), else hit\n",
    "2. Set episodes to 500000\n",
    "3. You can focus on settings where the current sum is at least 12, as in the example given in Seminar3.ipynb\n",
    "4. The following plots are examples of optimal policies obtained based on MC control. It is likely that your plots might be slightly different, due to the use a different random seed. There is no need for you to get exactly the same plots. "
   ]
  },
  {
   "cell_type": "markdown",
   "id": "19091373",
   "metadata": {},
   "source": [
    "<img src=\"with_ace.png\" width=\"950\" height=\"650\"/>\n",
    "<img src=\"without_ace.png\" width=\"950\" height=\"650\"/>"
   ]
  },
  {
   "cell_type": "markdown",
   "id": "29d81f60",
   "metadata": {},
   "source": [
    "### Recall the MC control algorithm"
   ]
  },
  {
   "cell_type": "markdown",
   "id": "eba6627a",
   "metadata": {},
   "source": [
    "<img src=\"./graphs/MCcontrol0.png\" width=\"800\" height=\"500\"/>"
   ]
  },
  {
   "cell_type": "markdown",
   "id": "39399d53",
   "metadata": {},
   "source": [
    "Firstly, import the environment and create Numpy arrays to store the value and the number of appearance for every state-action pair,"
   ]
  },
  {
   "cell_type": "code",
   "execution_count": 2,
   "id": "bfea05b4",
   "metadata": {},
   "outputs": [],
   "source": [
    "import matplotlib as mpl\n",
    "import matplotlib.pyplot as plt\n",
    "import numpy as np\n",
    "import gym\n",
    "env = gym.make('Blackjack-v1')\n",
    "player = 10\n",
    "dealer = 10\n",
    "n_action = 2\n",
    "qsa_with_ace = np.zeros([player, dealer, n_action])\n",
    "qsa_without_ace = np.zeros_like(qsa_with_ace)\n",
    "a_s_counts_ace = np.zeros_like(qsa_with_ace)\n",
    "a_s_counts_no_ace = np.zeros_like(a_s_counts_ace)"
   ]
  },
  {
   "cell_type": "markdown",
   "id": "ffc0c142",
   "metadata": {},
   "source": [
    "Initialise the policy: stick if the sum of player's cards >= 18 (action = 0), else hit"
   ]
  },
  {
   "cell_type": "code",
   "execution_count": 3,
   "id": "2ec486af",
   "metadata": {},
   "outputs": [],
   "source": [
    "policy_with_ace = np.ones([player, dealer], dtype=int)\n",
    "policy_with_ace[7:, :] = 0\n",
    "policy_without_ace = np.ones([player, dealer], dtype=int)\n",
    "policy_without_ace[7:, :] = 0\n",
    "\n",
    "episodes = 500000\n",
    "epsilon = 0.1"
   ]
  },
  {
   "cell_type": "markdown",
   "id": "434b3275",
   "metadata": {},
   "source": [
    "Run a certain number of episodes, evaluate and update the current policy after each episode, \n"
   ]
  },
  {
   "cell_type": "code",
   "execution_count": 4,
   "id": "3b27deed",
   "metadata": {},
   "outputs": [],
   "source": [
    "def plot_policy(policy, ace=True):\n",
    "    # Get colors\n",
    "    cmap = plt.cm.get_cmap(\"Paired\")\n",
    "    colors = list([cmap(0.2), cmap(0.8)])\n",
    "    label = [\"Stick\", \"Hit\"]\n",
    "\n",
    "    # Plot results\n",
    "    plt.figure(figsize=(15, 6))\n",
    "\n",
    "    player_range = np.arange(11, 22)\n",
    "    dealer_range = np.arange(0, 11)\n",
    "\n",
    "    plt.pcolor(dealer_range, player_range, policy, label=label, cmap=mpl.colors.ListedColormap(colors))\n",
    "    plt.axis([dealer_range.min(), dealer_range.max(), player_range.min(), player_range.max()])\n",
    "    col_bar = plt.colorbar()\n",
    "    col_bar.set_ticks([0.25, 0.75])\n",
    "    col_bar.set_ticklabels(label)\n",
    "    plt.grid()\n",
    "    plt.xlabel(\"Dealer Showing\")\n",
    "    plt.ylabel(\"Player Score\")\n",
    "    if ace:\n",
    "        plt.title(\"Optimal Policy With a Usable Ace ($\\pi_*$)\")\n",
    "    else:\n",
    "        plt.title(\"Optimal Policy Without a Usable Ace ($\\pi_*$)\")\n",
    "    plt.show()"
   ]
  },
  {
   "cell_type": "code",
   "execution_count": 5,
   "id": "3ab4f8f9",
   "metadata": {},
   "outputs": [
    {
     "data": {
      "text/plain": [
       "array([0, 1, 2, 3, 4, 5, 6, 7, 8, 9])"
      ]
     },
     "execution_count": 5,
     "metadata": {},
     "output_type": "execute_result"
    }
   ],
   "source": [
    "np.arange(0,10)"
   ]
  },
  {
   "cell_type": "code",
   "execution_count": 6,
   "id": "b50e7361",
   "metadata": {},
   "outputs": [
    {
     "data": {
      "image/png": "[encoded data removed]",
      "text/plain": [
       "<Figure size 1080x432 with 2 Axes>"
      ]
     },
     "metadata": {
      "needs_background": "light"
     },
     "output_type": "display_data"
    },
    {
     "data": {
      "image/png": "[encoded data removed]",
      "text/plain": [
       "<Figure size 1080x432 with 2 Axes>"
      ]
     },
     "metadata": {
      "needs_background": "light"
     },
     "output_type": "display_data"
    }
   ],
   "source": [
    "def policy_evaluation(counts, qsa, g):\n",
    "    return qsa + (g - qsa) / counts\n",
    "\n",
    "for e in range(episodes + 1):\n",
    "    done = False\n",
    "    obs = env.reset()\n",
    "    state_action_history = []\n",
    "    g = []\n",
    "    # random first action\n",
    "    a = env.action_space.sample()\n",
    "\n",
    "    obs = obs[0]\n",
    "    if obs[0] <= 11:\n",
    "        done = True\n",
    "    else:    \n",
    "        state_action_history.append([obs[0], obs[1], obs[2], a])\n",
    "    \n",
    "\n",
    "    while not done:\n",
    "        obs, r, done, info, prob = env.step(a)\n",
    "        g.append(r)\n",
    "        if done:\n",
    "            break\n",
    "        current_player_idx = obs[0] - 12\n",
    "        current_dealer_idx = obs[1] - 1\n",
    "        if obs[2]:\n",
    "            a = policy_with_ace[current_player_idx, current_dealer_idx]\n",
    "        else:\n",
    "            a = policy_without_ace[current_player_idx, current_dealer_idx]\n",
    "\n",
    "        state_action_history.append([obs[0], obs[1], obs[2], a])\n",
    "\n",
    "    final_reward = sum(g)\n",
    "    for player_idx, dealer_idx, ace, action in state_action_history:\n",
    "        player_idx -= 12\n",
    "        dealer_idx -= 1\n",
    "\n",
    "        if ace:\n",
    "            a_s_counts_ace[player_idx, dealer_idx, action] += 1.0\n",
    "            qsa_with_ace[player_idx, dealer_idx, action] = policy_evaluation(a_s_counts_ace[player_idx, dealer_idx, action],\n",
    "                                                                        qsa_with_ace[player_idx, dealer_idx, action],\n",
    "                                                                        final_reward)\n",
    "            # improve policy\n",
    "            policy_with_ace[player_idx, dealer_idx] = np.argmax(qsa_with_ace[player_idx, dealer_idx])\n",
    "\n",
    "        else:\n",
    "            a_s_counts_no_ace[player_idx, dealer_idx, action] += 1.0\n",
    "            qsa_without_ace[player_idx, dealer_idx, action] = policy_evaluation(a_s_counts_no_ace[player_idx, dealer_idx, action],\n",
    "                                                                           qsa_without_ace[player_idx, dealer_idx, action],\n",
    "                                                                           final_reward)\n",
    "            policy_without_ace[player_idx, dealer_idx] = np.argmax(qsa_without_ace[player_idx, dealer_idx])\n",
    "            \n",
    "plot_policy(policy_with_ace)\n",
    "plot_policy(policy_without_ace, ace=False)"
   ]
  }
 ],
 "metadata": {
  "kernelspec": {
   "display_name": "Python 3 (ipykernel)",
   "language": "python",
   "name": "python3"
  },
  "language_info": {
   "codemirror_mode": {
    "name": "ipython",
    "version": 3
   },
   "file_extension": ".py",
   "mimetype": "text/x-python",
   "name": "python",
   "nbconvert_exporter": "python",
   "pygments_lexer": "ipython3",
   "version": "3.9.7"
  }
 },
 "nbformat": 4,
 "nbformat_minor": 5
}
