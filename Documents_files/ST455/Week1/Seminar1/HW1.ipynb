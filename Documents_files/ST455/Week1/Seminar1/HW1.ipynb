{
 "cells": [
  {
   "cell_type": "markdown",
   "id": "professional-priority",
   "metadata": {},
   "source": [
    "## HW1 \n",
    "\n",
    "Implement the Gradient Based Methods (not covered in the lecture, to be discussed in the seminar; see below for the algorithm) in the four arm bernoulli bandit example (Lecture 1, Page 27). \n",
    "\n",
    "- Set the termination time to 1000\n",
    "- Number of trials = 20\n",
    "- Consider three choices of $\\eta$, corresponding to 0.1, 1 and 10\n",
    "- Plot the average reward and regret for each choice of $\\eta$\n",
    "\n",
    "![gradient_based](./graphs/gradient_based_lecture.png)"
   ]
  },
  {
   "cell_type": "code",
   "execution_count": null,
   "id": "33341c24",
   "metadata": {},
   "outputs": [],
   "source": [
    "## your code here"
   ]
  }
 ],
 "metadata": {
  "kernelspec": {
   "display_name": "Python 3 (ipykernel)",
   "language": "python",
   "name": "python3"
  },
  "language_info": {
   "codemirror_mode": {
    "name": "ipython",
    "version": 3
   },
   "file_extension": ".py",
   "mimetype": "text/x-python",
   "name": "python",
   "nbconvert_exporter": "python",
   "pygments_lexer": "ipython3",
   "version": "3.9.7"
  }
 },
 "nbformat": 4,
 "nbformat_minor": 5
}
