{
 "cells": [
  {
   "cell_type": "markdown",
   "id": "3c7480fc",
   "metadata": {},
   "source": [
    "## HW4 Solution"
   ]
  },
  {
   "cell_type": "markdown",
   "id": "fcd6dd1b",
   "metadata": {},
   "source": [
    "## Q1: the TD($\\lambda$) algorithm (5%)\n",
    "Consider a larger version of the Random Walk problem. \n",
    "Now we have 19 states instead of 5 and the left terminal state gives a reward of -1. \n",
    "The starting state is still the centre state. "
   ]
  },
  {
   "cell_type": "markdown",
   "id": "620d4e33",
   "metadata": {},
   "source": [
    "**Task**:\n",
    "- Implement the off-line $\\lambda$-return / TD($\\lambda$) algorithm:\n",
    "- Compare the RMS(root mean square) error averaged over the 19 states between the predictions at the end of the episode for the 19\n",
    "states and their true values, over the first 10 episodes, and over 10 runs (10 different sequence of walks). In other words, for each run, you generate 10 episodes and use TD($\\lambda$) to learn the value. Then you calculate the difference between the learned value and the true value, square the difference, average it over 10 runs and take the square root. \n",
    "\n",
    "- Plot the averaged RMS error vs $\\alpha$ values for the following $\\lambda$-values:\n",
    "\n",
    "parameter settings: \n",
    "```\n",
    "lambdas = [0.0, 0.4, 0.8, 0.9, 0.95, 0.975, 0.99, 1]\n",
    "alphas = [np.arange(0, 1.1, 0.1),\n",
    "          np.arange(0, 1.1, 0.1),\n",
    "          np.arange(0, 1.1, 0.1),\n",
    "          np.arange(0, 1.1, 0.1),\n",
    "          np.arange(0, 1.1, 0.1),\n",
    "          np.arange(0, 0.55, 0.05),\n",
    "          np.arange(0, 0.22, 0.02),\n",
    "          np.arange(0, 0.11, 0.01)]\n",
    "```"
   ]
  },
  {
   "cell_type": "markdown",
   "id": "130d8abd",
   "metadata": {},
   "source": [
    "## First, let us review the TD($\\lambda$) algorithm"
   ]
  },
  {
   "cell_type": "markdown",
   "id": "3ad2ed2b",
   "metadata": {},
   "source": [
    "![alt txt](./graphs/lambda_1.png)\n",
    "![alt txt](./graphs/lambda_2.png)"
   ]
  },
  {
   "cell_type": "code",
   "execution_count": 2,
   "id": "3b44ac1d",
   "metadata": {},
   "outputs": [
    {
     "name": "stdout",
     "output_type": "stream",
     "text": [
      "[ 0.00000000e+00 -9.00000000e-01 -8.00000000e-01 -7.00000000e-01\n",
      " -6.00000000e-01 -5.00000000e-01 -4.00000000e-01 -3.00000000e-01\n",
      " -2.00000000e-01 -1.00000000e-01 -2.48141785e-12  1.00000000e-01\n",
      "  2.00000000e-01  3.00000000e-01  4.00000000e-01  5.00000000e-01\n",
      "  6.00000000e-01  7.00000000e-01  8.00000000e-01  9.00000000e-01\n",
      "  0.00000000e+00]\n"
     ]
    }
   ],
   "source": [
    "# Iterative policy evaluation\n",
    "import numpy as np\n",
    "true_values = np.zeros(21)\n",
    "for k in np.arange(1000):\n",
    "    true_values[1] = -0.5 + 0.5 * true_values[2]\n",
    "    for j in np.arange(2, 19):\n",
    "        true_values[j] = 0.5 * (true_values[j-1] + true_values[j+1])\n",
    "    true_values[19] = 0.5 + 0.5 * true_values[18]\n",
    "\n",
    "print(true_values)"
   ]
  },
  {
   "cell_type": "code",
   "execution_count": 3,
   "id": "f28f4358",
   "metadata": {},
   "outputs": [
    {
     "name": "stdout",
     "output_type": "stream",
     "text": [
      "Number of current run: 1\n",
      "Number of current run: 2\n",
      "Number of current run: 3\n",
      "Number of current run: 4\n",
      "Number of current run: 5\n",
      "Number of current run: 6\n",
      "Number of current run: 7\n",
      "Number of current run: 8\n",
      "Number of current run: 9\n",
      "Number of current run: 10\n"
     ]
    }
   ],
   "source": [
    "# Pass the reward trajectory from time step t up to n'th step\n",
    "import numpy as np\n",
    "import matplotlib.pyplot as plt\n",
    "left = 0\n",
    "right = 1\n",
    "def random_policy():\n",
    "    return np.random.binomial(1, 0.5)\n",
    "\n",
    "class RandomWalkWide:\n",
    "    def __init__(self, initial_state):\n",
    "        self.initial_state = initial_state\n",
    "        self.state = self.initial_state\n",
    "        self.reward = 0.0\n",
    "        self.is_terminal = False\n",
    "\n",
    "    # write step function that returns obs(next state), reward, is_done\n",
    "    def step(self, action):\n",
    "        if self.state == 19 and action == right:\n",
    "            self.state += 1\n",
    "            self.is_terminal = True\n",
    "            self.reward = 1.0\n",
    "        elif self.state == 1 and action == left:\n",
    "            self.state -= 1\n",
    "            self.is_terminal = True\n",
    "            self.reward = -1.0\n",
    "        else:\n",
    "            if action == left:\n",
    "                self.state -= 1\n",
    "                self.is_terminal = False\n",
    "                self.reward = 0.0\n",
    "\n",
    "            else:\n",
    "                self.state += 1\n",
    "                self.is_terminal = False\n",
    "                self.reward = 0.0\n",
    "\n",
    "        return self.state, self.reward, self.is_terminal\n",
    "\n",
    "    def reset(self):\n",
    "        self.state = self.initial_state\n",
    "        self.reward = 0.0\n",
    "        self.is_terminal = False\n",
    "        return self.state\n",
    "    \n",
    "def n_step_reward(r, values, current_t, total_time, state_history, gam):\n",
    "    n_steps = len(r)\n",
    "    gamma_power = 1.0\n",
    "    r_n = 0.0\n",
    "\n",
    "    for n in range(n_steps):\n",
    "        r_n += gamma_power * r[n]\n",
    "        gamma_power *= gam\n",
    "\n",
    "    end_time = min(current_t + n_steps, total_time)\n",
    "    state = state_history[end_time]\n",
    "    r_n += gamma_power * values[state]\n",
    "\n",
    "    return r_n\n",
    "\n",
    "def temporal_difference_lambda(values, state_history, r_trajectory, current_t, alpha=0.1, lam=1.0):\n",
    "    lambda_r = 0.0\n",
    "    lambda_power = 1.0\n",
    "    total_time = len(state_history)\n",
    "    total_n = total_time - current_t\n",
    "\n",
    "    for n in range(1, max(total_n, 1)):\n",
    "        lambda_r += lambda_power * n_step_reward(r_trajectory[current_t:current_t+n], values, current_t,\n",
    "                                                 total_time, state_history, 1.0)\n",
    "        lambda_power *= lam\n",
    "\n",
    "    lambda_r = (1.0 - lam) * lambda_r + lambda_power * np.sum(r_trajectory[current_t:total_time])\n",
    "    current_state = state_history[current_t]\n",
    "    return values[current_state] + alpha * (lambda_r - values[current_state])\n",
    "\n",
    "\n",
    "def root_mean_square_error(values, true_values):\n",
    "    diff = values - true_values\n",
    "    mse = np.sum(diff ** 2)\n",
    "    return np.sqrt(mse)\n",
    "\n",
    "\n",
    "def plot_rms_error_temporal_lambda(errors, alphas, lambdas):\n",
    "    for i in range(len(lambdas)):\n",
    "        plt.plot(alphas[i], errors[i, :], label=r'$\\lambda$ = ' + str(lambdas[i]))\n",
    "    plt.ylabel('RMS error averaged over states')\n",
    "    plt.xlabel(r'$\\alpha$')\n",
    "    plt.title(r'Off-line $\\lambda$-return')\n",
    "#    plt.ylim(0.25, 0.65)\n",
    "    plt.legend(bbox_to_anchor=(1, 0.5))\n",
    "    plt.show()\n",
    "\n",
    "\n",
    "true_values = np.arange(-20, 22, 2) / 20.0\n",
    "true_values[0] = true_values[20] = 0.0\n",
    "\n",
    "initial_state = 10\n",
    "env = RandomWalkWide(initial_state)\n",
    "\n",
    "episodes = 10\n",
    "n_runs = 10\n",
    "\n",
    "lambdas = [0.0, 0.4, 0.8, 0.9, 0.95, 0.975, 0.99, 1]\n",
    "alphas = [np.arange(0, 1.1, 0.1),\n",
    "          np.arange(0, 1.1, 0.1),\n",
    "          np.arange(0, 1.1, 0.1),\n",
    "          np.arange(0, 1.1, 0.1),\n",
    "          np.arange(0, 1.1, 0.1),\n",
    "          np.arange(0, 0.55, 0.05),\n",
    "          np.arange(0, 0.22, 0.02),\n",
    "          np.arange(0, 0.11, 0.01)]\n",
    "\n",
    "# arrays to store rms for different values of alphas\n",
    "rms = np.empty((n_runs, len(lambdas), len(alphas[0])))\n",
    "\n",
    "for n in range(n_runs):\n",
    "    print(\"Number of current run:\", n + 1)\n",
    "    for lambda_idx, lam in zip(range(len(lambdas)), lambdas):\n",
    "        for alpha_idx, alpha in zip(range(len(alphas[lambda_idx])), alphas[lambda_idx]):\n",
    "            values = np.zeros(21)\n",
    "            error = 0.0\n",
    "            for i in range(1, episodes + 1):\n",
    "                state = env.reset()\n",
    "                state_history = [state]\n",
    "                done = False\n",
    "                reward_trajectory = []\n",
    "                \n",
    "                while not done:\n",
    "                    action = random_policy()\n",
    "                    next_state, r, done = env.step(action)\n",
    "                    reward_trajectory.append(r)\n",
    "                    state_history.append(next_state)\n",
    "\n",
    "                for t, state in zip(range(len(state_history)), state_history):\n",
    "                    values[state] = temporal_difference_lambda(values, state_history, reward_trajectory, t,\n",
    "                                                               alpha=alpha, lam=lam)\n",
    "\n",
    "                error += np.square(root_mean_square_error(values[1:20], true_values[1:20]))\n",
    "\n",
    "            rms[n, lambda_idx, alpha_idx] = error / episodes\n",
    "\n",
    "rms = np.sqrt(np.mean(rms, axis=0))\n",
    "\n"
   ]
  },
  {
   "cell_type": "code",
   "execution_count": 4,
   "id": "2570cb61",
   "metadata": {},
   "outputs": [
    {
     "data": {
      "image/png": "[encoded data removed]",
      "text/plain": [
       "<Figure size 432x288 with 1 Axes>"
      ]
     },
     "metadata": {
      "needs_background": "light"
     },
     "output_type": "display_data"
    }
   ],
   "source": [
    "plot_rms_error_temporal_lambda(rms, alphas, lambdas)"
   ]
  },
  {
   "cell_type": "markdown",
   "id": "0befd094",
   "metadata": {},
   "source": [
    "## Q2: Implement the double Q-learning algorithm on the Cliff Walking example (5%)\n",
    "\n",
    "#### Task:\n",
    "- Set the number of episodes to 1000\n",
    "- Output the estimated optimal policy\n",
    "- Plot the average reward during episodes (see the plot in Seminar 4)"
   ]
  },
  {
   "cell_type": "markdown",
   "id": "e875b31c",
   "metadata": {},
   "source": [
    "## First, let us review the double Q-learning algorithm"
   ]
  },
  {
   "cell_type": "markdown",
   "id": "c837c47d",
   "metadata": {},
   "source": [
    "<img src=\"./graphs/double_q_learning.png\" width=\"750\" height=\"450\">"
   ]
  },
  {
   "cell_type": "markdown",
   "id": "4988fa65",
   "metadata": {},
   "source": [
    "## Second, let us implement the Cliff Walking environment"
   ]
  },
  {
   "cell_type": "code",
   "execution_count": 5,
   "id": "54c39bad",
   "metadata": {},
   "outputs": [],
   "source": [
    "world_width = 12\n",
    "world_height = 4 \n",
    "\n",
    "# actions\n",
    "up = 0\n",
    "left = 1\n",
    "right = 2\n",
    "down = 3\n",
    "actions = [up, left, right, down]\n",
    "\n",
    "class CliffWalking:\n",
    "    def __init__(self, initial_state, goal_state):\n",
    "        self.initial_state = initial_state\n",
    "        self.goal_state = goal_state\n",
    "        self.state = self.initial_state\n",
    "        self.reward = 0.0\n",
    "        self.is_terminal = False\n",
    "\n",
    "    def is_cliff(self):\n",
    "        cliff = np.zeros((world_height, world_width), dtype=bool)\n",
    "        cliff[3, 1: -1] = True\n",
    "        return cliff[tuple(self.state)]\n",
    "\n",
    "    # return next_state, reward, done\n",
    "    def step(self, action):\n",
    "        i, j = self.state\n",
    "\n",
    "        if action == up:\n",
    "            self.state = [max(i - 1, 0), j]\n",
    "        elif action == left:\n",
    "            self.state = [i, max(j - 1, 0)]\n",
    "        elif action == right:\n",
    "            self.state = [i, min(j + 1, world_width - 1)]\n",
    "        elif action == down:\n",
    "            self.state = [min(i + 1, world_height - 1), j]\n",
    "        else:\n",
    "            assert False, \"Actions should be in the range of (0, 4)\"\n",
    "\n",
    "        if self.is_cliff():\n",
    "            self.state = self.initial_state\n",
    "            self.reward = -100.0\n",
    "            self.is_terminal = True\n",
    "        elif self.state == self.goal_state:\n",
    "            self.state = self.state\n",
    "            self.reward = 0.0\n",
    "            self.is_terminal = True\n",
    "        else:\n",
    "            self.reward = -1.0\n",
    "            self.is_terminal = False\n",
    "        return self.state, self.reward, self.is_terminal\n",
    "\n",
    "    def reset(self):\n",
    "        self.state = self.initial_state\n",
    "        self.reward = 0.0\n",
    "        self.is_terminal = False\n",
    "        return self.state"
   ]
  },
  {
   "cell_type": "markdown",
   "id": "3bb2a9fe",
   "metadata": {},
   "source": [
    "## Finally, let us implement the double Q-learning algorithm"
   ]
  },
  {
   "cell_type": "code",
   "execution_count": 6,
   "id": "9d5e8920",
   "metadata": {},
   "outputs": [],
   "source": [
    "start_position = [3, 0]  \n",
    "goal = [3, 11]\n",
    "\n",
    "def eps_greedy_policy(qsa, epsilon=0.1):\n",
    "    if np.random.binomial(1, epsilon) == 1:\n",
    "        return np.random.choice(actions)\n",
    "    else:\n",
    "        return np.random.choice([action_ for action_, value_ in enumerate(qsa) if value_ == np.max(qsa)])\n",
    "\n",
    "\n",
    "def double_q_learning(q1, q2, state, action, reward, next_state, alpha=0.1, gamma=1.0):\n",
    "    state_row, state_col = state\n",
    "    next_state_row, next_state_col = next_state\n",
    "    update_q1 = np.random.choice([True, False])\n",
    "    if update_q1:\n",
    "        a1 = eps_greedy_policy(q1[next_state_row, next_state_col,:], epsilon=0)\n",
    "        q1[state_row, state_col, action] += alpha * (reward + gamma * q2[next_state_row, next_state_col,a1] - q1[state_row, state_col, action])\n",
    "    else:\n",
    "        a2 = eps_greedy_policy(q2[next_state_row, next_state_col,:], epsilon=0)\n",
    "        q2[state_row, state_col, action] += alpha * (reward + gamma * q1[next_state_row, next_state_col,a2] - q2[state_row, state_col, action])\n",
    "    return q1,q2"
   ]
  },
  {
   "cell_type": "code",
   "execution_count": 7,
   "id": "65baf426",
   "metadata": {},
   "outputs": [
    {
     "name": "stdout",
     "output_type": "stream",
     "text": [
      "Number of current run: 1\n",
      "Number of current run: 2\n",
      "Number of current run: 3\n",
      "Number of current run: 4\n",
      "Number of current run: 5\n",
      "Number of current run: 6\n",
      "Number of current run: 7\n",
      "Number of current run: 8\n",
      "Number of current run: 9\n",
      "Number of current run: 10\n"
     ]
    }
   ],
   "source": [
    "runs = 10\n",
    "episodes = 1000\n",
    "rewards_double_qlearning = np.zeros(episodes)\n",
    "env_double_q_learning = CliffWalking(start_position, goal)\n",
    "\n",
    "for r in range(runs):\n",
    "    print(\"Number of current run:\", r + 1)\n",
    "    q1_double_qlearning = np.zeros((world_height, world_width, len(actions)))\n",
    "    q2_double_qlearning = np.zeros((world_height, world_width, len(actions)))\n",
    "\n",
    "    for i in range(episodes):\n",
    "        state_double_q = env_double_q_learning.reset()\n",
    "        done_double_q = False\n",
    "        g_double_q = 0.0\n",
    "        \n",
    "        while not done_double_q:\n",
    "            row_double_q, col_double_q = state_double_q\n",
    "            a_double_q = eps_greedy_policy(q1_double_qlearning[row_double_q, col_double_q, :] + q2_double_qlearning[row_double_q, col_double_q, :])\n",
    "            next_state_double_q, r_double_q, done_double_q = env_double_q_learning.step(a_double_q)\n",
    "            g_double_q += r_double_q\n",
    "\n",
    "            # Double-Q-learning updates\n",
    "            q1_double_qlearning, q2_double_qlearning = double_q_learning(q1_double_qlearning, q2_double_qlearning, state_double_q, a_double_q, r_double_q, next_state_double_q)\n",
    "            state_double_q = next_state_double_q\n",
    "\n",
    "        rewards_double_qlearning[i] += g_double_q"
   ]
  },
  {
   "cell_type": "code",
   "execution_count": 8,
   "id": "d8238e9d",
   "metadata": {},
   "outputs": [
    {
     "data": {
      "image/png": "[encoded data removed]",
      "text/plain": [
       "<Figure size 432x288 with 1 Axes>"
      ]
     },
     "metadata": {
      "needs_background": "light"
     },
     "output_type": "display_data"
    }
   ],
   "source": [
    "def plot_rewards(plots):\n",
    "    plt.figure()\n",
    "    for plot in plots:\n",
    "        method, method_title = plot\n",
    "        plt.plot(method, label=method_title)\n",
    "    # plt.plot(r_qlearning, label='Q-learning')\n",
    "    plt.xlabel('Episodes')\n",
    "    plt.ylabel('Sum of rewards during episodes')\n",
    "    plt.ylim([-100, 0])\n",
    "    plt.legend()\n",
    "    plt.show()\n",
    "\n",
    "rewards_double_qlearning /= runs \n",
    "\n",
    "plot_rewards([[rewards_double_qlearning, 'Double-Q-learning']])"
   ]
  },
  {
   "cell_type": "code",
   "execution_count": 9,
   "id": "52d20a94",
   "metadata": {},
   "outputs": [
    {
     "name": "stdout",
     "output_type": "stream",
     "text": [
      "Double Q-Learning Optimal policy is:\n",
      "['R' 'R' 'R' 'R' 'R' 'R' 'R' 'R' 'R' 'R' 'R' 'D']\n",
      "['U' 'U' 'U' 'U' 'U' 'U' 'U' 'U' 'U' 'R' 'R' 'D']\n",
      "['U' 'U' 'U' 'U' 'R' 'R' 'U' 'U' 'R' 'R' 'R' 'D']\n",
      "['U' 'C' 'C' 'C' 'C' 'C' 'C' 'C' 'C' 'C' 'C' 'G']\n"
     ]
    }
   ],
   "source": [
    "def print_optimal_policy(policy, method):\n",
    "    policy_display = np.empty_like(policy, dtype=str)\n",
    "    for i in range(0, world_height):\n",
    "        for j in range(0, world_width):\n",
    "            if [i, j] == [3, 11]:\n",
    "                policy_display[i, j] = 'G'\n",
    "                continue\n",
    "            if i == 3 and j in np.arange(1,11): \n",
    "                policy_display[i, j] = 'C'\n",
    "                continue\n",
    "            a = policy[i, j]\n",
    "            if a == up:\n",
    "                policy_display[i, j] = 'U'\n",
    "            elif a == left:\n",
    "                policy_display[i, j] = 'L'\n",
    "            elif a == right:\n",
    "                policy_display[i, j] = 'R'\n",
    "            elif a == down:\n",
    "                policy_display[i, j] = 'D'\n",
    "    print(method + ' Optimal policy is:')\n",
    "    for row in policy_display:\n",
    "        print(row)\n",
    "        \n",
    "optimal_policy = np.argmax(q1_double_qlearning + q2_double_qlearning, axis=2)\n",
    "print_optimal_policy(optimal_policy, 'Double Q-Learning')"
   ]
  },
  {
   "cell_type": "code",
   "execution_count": null,
   "id": "87c88235",
   "metadata": {},
   "outputs": [],
   "source": []
  }
 ],
 "metadata": {
  "kernelspec": {
   "display_name": "Python 3 (ipykernel)",
   "language": "python",
   "name": "python3"
  },
  "language_info": {
   "codemirror_mode": {
    "name": "ipython",
    "version": 3
   },
   "file_extension": ".py",
   "mimetype": "text/x-python",
   "name": "python",
   "nbconvert_exporter": "python",
   "pygments_lexer": "ipython3",
   "version": "3.9.7"
  }
 },
 "nbformat": 4,
 "nbformat_minor": 5
}
